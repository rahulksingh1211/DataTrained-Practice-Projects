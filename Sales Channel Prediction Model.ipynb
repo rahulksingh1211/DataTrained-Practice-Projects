{
 "cells": [
  {
   "cell_type": "code",
   "execution_count": null,
   "metadata": {},
   "outputs": [],
   "source": [
    "#Discription:\n",
    "#the model is based on the  distribution strategy and channel for a company enters in market.The case study of Sales channel includes the detailed study of TV, radio and newspaper channel.\n",
    "#here we have to predict the total sales generated from all the sales channel. \n",
    "#this is basically a reggression problem as its target has continious values."
   ]
  },
  {
   "cell_type": "code",
   "execution_count": 1,
   "metadata": {},
   "outputs": [],
   "source": [
    "#Imoporting neccecory Libraries:\n",
    "\n",
    "#common lib\n",
    "import pandas as pd\n",
    "import numpy as np\n",
    "import matplotlib.pyplot as plt\n",
    "import seaborn as sns\n",
    "%matplotlib inline\n",
    "\n",
    "#Preprecessing Lib\n",
    "from sklearn.preprocessing import StandardScaler\n",
    "from sklearn.model_selection import train_test_split\n",
    "from sklearn.preprocessing import OneHotEncoder,LabelEncoder\n",
    "\n",
    "#outliars\n",
    "from scipy import stats\n",
    "\n",
    "#multicoliniarity lib\n",
    "from statsmodels.stats.outliers_influence import variance_inflation_factor\n",
    "from sklearn.feature_selection import SelectKBest,f_classif\n",
    "\n",
    "#model lib\n",
    "from sklearn.linear_model import LinearRegression\n",
    "from sklearn.neighbors import KNeighborsRegressor\n",
    "from sklearn.ensemble import RandomForestRegressor,AdaBoostRegressor,GradientBoostingRegressor\n",
    "from sklearn.svm import SVR\n",
    "\n",
    "#Model Evaluation\n",
    "from sklearn.metrics import r2_score,mean_squared_error,mean_absolute_error\n",
    "#Hyper parameter tuning\n",
    "from sklearn.model_selection import GridSearchCV\n",
    "\n",
    "import warnings\n",
    "warnings.filterwarnings('ignore')"
   ]
  },
  {
   "cell_type": "code",
   "execution_count": 15,
   "metadata": {},
   "outputs": [
    {
     "data": {
      "text/html": [
       "<div>\n",
       "<style scoped>\n",
       "    .dataframe tbody tr th:only-of-type {\n",
       "        vertical-align: middle;\n",
       "    }\n",
       "\n",
       "    .dataframe tbody tr th {\n",
       "        vertical-align: top;\n",
       "    }\n",
       "\n",
       "    .dataframe thead th {\n",
       "        text-align: right;\n",
       "    }\n",
       "</style>\n",
       "<table border=\"1\" class=\"dataframe\">\n",
       "  <thead>\n",
       "    <tr style=\"text-align: right;\">\n",
       "      <th></th>\n",
       "      <th>Unnamed: 0</th>\n",
       "      <th>TV</th>\n",
       "      <th>radio</th>\n",
       "      <th>newspaper</th>\n",
       "      <th>sales</th>\n",
       "    </tr>\n",
       "  </thead>\n",
       "  <tbody>\n",
       "    <tr>\n",
       "      <th>0</th>\n",
       "      <td>1</td>\n",
       "      <td>230.1</td>\n",
       "      <td>37.8</td>\n",
       "      <td>69.2</td>\n",
       "      <td>22.1</td>\n",
       "    </tr>\n",
       "    <tr>\n",
       "      <th>1</th>\n",
       "      <td>2</td>\n",
       "      <td>44.5</td>\n",
       "      <td>39.3</td>\n",
       "      <td>45.1</td>\n",
       "      <td>10.4</td>\n",
       "    </tr>\n",
       "    <tr>\n",
       "      <th>2</th>\n",
       "      <td>3</td>\n",
       "      <td>17.2</td>\n",
       "      <td>45.9</td>\n",
       "      <td>69.3</td>\n",
       "      <td>9.3</td>\n",
       "    </tr>\n",
       "    <tr>\n",
       "      <th>3</th>\n",
       "      <td>4</td>\n",
       "      <td>151.5</td>\n",
       "      <td>41.3</td>\n",
       "      <td>58.5</td>\n",
       "      <td>18.5</td>\n",
       "    </tr>\n",
       "    <tr>\n",
       "      <th>4</th>\n",
       "      <td>5</td>\n",
       "      <td>180.8</td>\n",
       "      <td>10.8</td>\n",
       "      <td>58.4</td>\n",
       "      <td>12.9</td>\n",
       "    </tr>\n",
       "  </tbody>\n",
       "</table>\n",
       "</div>"
      ],
      "text/plain": [
       "   Unnamed: 0     TV  radio  newspaper  sales\n",
       "0           1  230.1   37.8       69.2   22.1\n",
       "1           2   44.5   39.3       45.1   10.4\n",
       "2           3   17.2   45.9       69.3    9.3\n",
       "3           4  151.5   41.3       58.5   18.5\n",
       "4           5  180.8   10.8       58.4   12.9"
      ]
     },
     "execution_count": 15,
     "metadata": {},
     "output_type": "execute_result"
    }
   ],
   "source": [
    "#importing the Dataframe\n",
    "df=pd.read_csv('Sales Channel Prediction.csv')\n",
    "df.head()"
   ]
  },
  {
   "cell_type": "code",
   "execution_count": 3,
   "metadata": {},
   "outputs": [
    {
     "data": {
      "text/plain": [
       "(200, 5)"
      ]
     },
     "execution_count": 3,
     "metadata": {},
     "output_type": "execute_result"
    }
   ],
   "source": [
    "df.shape\n",
    "#the shape of Dataframe is 158 rows and 12 columns"
   ]
  },
  {
   "cell_type": "code",
   "execution_count": 4,
   "metadata": {},
   "outputs": [],
   "source": [
    "pd.set_option('display.max_rows',None)"
   ]
  },
  {
   "cell_type": "code",
   "execution_count": 5,
   "metadata": {},
   "outputs": [
    {
     "name": "stdout",
     "output_type": "stream",
     "text": [
      "<class 'pandas.core.frame.DataFrame'>\n",
      "RangeIndex: 200 entries, 0 to 199\n",
      "Data columns (total 5 columns):\n",
      " #   Column      Non-Null Count  Dtype  \n",
      "---  ------      --------------  -----  \n",
      " 0   Unnamed: 0  200 non-null    int64  \n",
      " 1   TV          200 non-null    float64\n",
      " 2   radio       200 non-null    float64\n",
      " 3   newspaper   200 non-null    float64\n",
      " 4   sales       200 non-null    float64\n",
      "dtypes: float64(4), int64(1)\n",
      "memory usage: 7.9 KB\n"
     ]
    }
   ],
   "source": [
    "df.info()\n",
    "#here we can see that there is total 4 feature and 1 target column sales"
   ]
  },
  {
   "cell_type": "code",
   "execution_count": null,
   "metadata": {},
   "outputs": [],
   "source": [
    "#here can see that ther is one unwanted column 'Unnamed: 0'.so we can delete this column from our dataset"
   ]
  },
  {
   "cell_type": "code",
   "execution_count": 16,
   "metadata": {},
   "outputs": [],
   "source": [
    "#dropping the column Unnamed: 0\n",
    "df=df.drop(columns='Unnamed: 0',axis=1)"
   ]
  },
  {
   "cell_type": "code",
   "execution_count": 7,
   "metadata": {},
   "outputs": [
    {
     "data": {
      "text/plain": [
       "TV           0\n",
       "radio        0\n",
       "newspaper    0\n",
       "sales        0\n",
       "dtype: int64"
      ]
     },
     "execution_count": 7,
     "metadata": {},
     "output_type": "execute_result"
    }
   ],
   "source": [
    "df.isna().sum()\n",
    "#As we can see there is no null present in the dataframe."
   ]
  },
  {
   "cell_type": "code",
   "execution_count": 51,
   "metadata": {},
   "outputs": [
    {
     "data": {
      "image/png": "[encoded data removed]",
      "text/plain": [
       "<Figure size 1080x432 with 2 Axes>"
      ]
     },
     "metadata": {
      "needs_background": "light"
     },
     "output_type": "display_data"
    }
   ],
   "source": [
    "#ploting the heatmap to cross validate the isnull value\n",
    "plt.figure(figsize=(15,6))\n",
    "sns.heatmap(df.isnull())\n",
    "plt.title('Null Values')\n",
    "plt.show()"
   ]
  },
  {
   "cell_type": "code",
   "execution_count": 8,
   "metadata": {},
   "outputs": [
    {
     "data": {
      "text/plain": [
       "(200, 4)"
      ]
     },
     "execution_count": 8,
     "metadata": {},
     "output_type": "execute_result"
    }
   ],
   "source": [
    "df.shape\n",
    "#Now we have new rows are 200 and 4 columns"
   ]
  },
  {
   "cell_type": "code",
   "execution_count": 9,
   "metadata": {},
   "outputs": [
    {
     "data": {
      "text/html": [
       "<div>\n",
       "<style scoped>\n",
       "    .dataframe tbody tr th:only-of-type {\n",
       "        vertical-align: middle;\n",
       "    }\n",
       "\n",
       "    .dataframe tbody tr th {\n",
       "        vertical-align: top;\n",
       "    }\n",
       "\n",
       "    .dataframe thead th {\n",
       "        text-align: right;\n",
       "    }\n",
       "</style>\n",
       "<table border=\"1\" class=\"dataframe\">\n",
       "  <thead>\n",
       "    <tr style=\"text-align: right;\">\n",
       "      <th></th>\n",
       "      <th>TV</th>\n",
       "      <th>radio</th>\n",
       "      <th>newspaper</th>\n",
       "      <th>sales</th>\n",
       "    </tr>\n",
       "  </thead>\n",
       "  <tbody>\n",
       "    <tr>\n",
       "      <th>count</th>\n",
       "      <td>200.000000</td>\n",
       "      <td>200.000000</td>\n",
       "      <td>200.000000</td>\n",
       "      <td>200.000000</td>\n",
       "    </tr>\n",
       "    <tr>\n",
       "      <th>mean</th>\n",
       "      <td>147.042500</td>\n",
       "      <td>23.264000</td>\n",
       "      <td>30.554000</td>\n",
       "      <td>14.022500</td>\n",
       "    </tr>\n",
       "    <tr>\n",
       "      <th>std</th>\n",
       "      <td>85.854236</td>\n",
       "      <td>14.846809</td>\n",
       "      <td>21.778621</td>\n",
       "      <td>5.217457</td>\n",
       "    </tr>\n",
       "    <tr>\n",
       "      <th>min</th>\n",
       "      <td>0.700000</td>\n",
       "      <td>0.000000</td>\n",
       "      <td>0.300000</td>\n",
       "      <td>1.600000</td>\n",
       "    </tr>\n",
       "    <tr>\n",
       "      <th>25%</th>\n",
       "      <td>74.375000</td>\n",
       "      <td>9.975000</td>\n",
       "      <td>12.750000</td>\n",
       "      <td>10.375000</td>\n",
       "    </tr>\n",
       "    <tr>\n",
       "      <th>50%</th>\n",
       "      <td>149.750000</td>\n",
       "      <td>22.900000</td>\n",
       "      <td>25.750000</td>\n",
       "      <td>12.900000</td>\n",
       "    </tr>\n",
       "    <tr>\n",
       "      <th>75%</th>\n",
       "      <td>218.825000</td>\n",
       "      <td>36.525000</td>\n",
       "      <td>45.100000</td>\n",
       "      <td>17.400000</td>\n",
       "    </tr>\n",
       "    <tr>\n",
       "      <th>max</th>\n",
       "      <td>296.400000</td>\n",
       "      <td>49.600000</td>\n",
       "      <td>114.000000</td>\n",
       "      <td>27.000000</td>\n",
       "    </tr>\n",
       "  </tbody>\n",
       "</table>\n",
       "</div>"
      ],
      "text/plain": [
       "               TV       radio   newspaper       sales\n",
       "count  200.000000  200.000000  200.000000  200.000000\n",
       "mean   147.042500   23.264000   30.554000   14.022500\n",
       "std     85.854236   14.846809   21.778621    5.217457\n",
       "min      0.700000    0.000000    0.300000    1.600000\n",
       "25%     74.375000    9.975000   12.750000   10.375000\n",
       "50%    149.750000   22.900000   25.750000   12.900000\n",
       "75%    218.825000   36.525000   45.100000   17.400000\n",
       "max    296.400000   49.600000  114.000000   27.000000"
      ]
     },
     "execution_count": 9,
     "metadata": {},
     "output_type": "execute_result"
    }
   ],
   "source": [
    "df.describe()\n",
    "#discribing the data"
   ]
  },
  {
   "cell_type": "code",
   "execution_count": null,
   "metadata": {},
   "outputs": [],
   "source": [
    "#As we can check mean and median are approx same so there is very less outliers and skewness.\n",
    "#the standerd daviation is looking not normal."
   ]
  },
  {
   "cell_type": "code",
   "execution_count": 10,
   "metadata": {},
   "outputs": [
    {
     "data": {
      "image/png": "[encoded data removed]",
      "text/plain": [
       "<Figure size 1296x864 with 3 Axes>"
      ]
     },
     "metadata": {},
     "output_type": "display_data"
    }
   ],
   "source": [
    "#Now checking the disribution of the data using distribution plot.\n",
    "plt.figure(figsize=(18,12),facecolor='white')\n",
    "pltnum=1\n",
    "\n",
    "for columns in df.iloc[:,:3]:\n",
    "    if pltnum <= 16:\n",
    "        plt.subplot(4,4,pltnum)\n",
    "        sns.distplot(df[columns])\n",
    "        plt.xlabel(columns,fontsize=8)\n",
    "        \n",
    "    pltnum +=1\n",
    "plt.tight_layout()    "
   ]
  },
  {
   "cell_type": "code",
   "execution_count": null,
   "metadata": {},
   "outputs": [],
   "source": [
    "#here data distribution looks normal.graph look linear."
   ]
  },
  {
   "cell_type": "code",
   "execution_count": 48,
   "metadata": {},
   "outputs": [
    {
     "data": {
      "image/png": "[encoded data removed]",
      "text/plain": [
       "<Figure size 1296x864 with 3 Axes>"
      ]
     },
     "metadata": {},
     "output_type": "display_data"
    }
   ],
   "source": [
    "#Now checking the disribution of the data using distribution plot.\n",
    "plt.figure(figsize=(18,12),facecolor='white')\n",
    "pltnum=1\n",
    "\n",
    "for columns in df.iloc[:,:3]:\n",
    "    if pltnum <= 16:\n",
    "        plt.subplot(4,4,pltnum)\n",
    "        sns.stripplot(df[columns])\n",
    "        plt.xlabel(columns,fontsize=8)\n",
    "        \n",
    "    pltnum +=1\n",
    "plt.tight_layout()    "
   ]
  },
  {
   "cell_type": "code",
   "execution_count": null,
   "metadata": {},
   "outputs": [],
   "source": [
    "#using strip plot we can see that the data distributon looks nomal for the features."
   ]
  },
  {
   "cell_type": "code",
   "execution_count": 11,
   "metadata": {},
   "outputs": [
    {
     "data": {
      "image/png": "[encoded data removed]",
      "text/plain": [
       "<Figure size 1296x864 with 3 Axes>"
      ]
     },
     "metadata": {},
     "output_type": "display_data"
    }
   ],
   "source": [
    "#Checking the Ouliars using boxplot:\n",
    "plt.figure(figsize=(18,12),facecolor='white')\n",
    "pltnum=1\n",
    "\n",
    "for columns in df.iloc[:,:3]:\n",
    "    if pltnum <= 16:\n",
    "        plt.subplot(4,4,pltnum)\n",
    "        sns.boxplot(df[columns])\n",
    "        plt.xlabel(columns,fontsize=8)\n",
    "        \n",
    "    pltnum +=1\n",
    "plt.tight_layout()    "
   ]
  },
  {
   "cell_type": "code",
   "execution_count": null,
   "metadata": {},
   "outputs": [],
   "source": [
    "#there is very less outliers looks in the features.so we need to delete that.we can work with that."
   ]
  },
  {
   "cell_type": "code",
   "execution_count": 12,
   "metadata": {},
   "outputs": [
    {
     "data": {
      "text/plain": [
       "sales        1.000000\n",
       "TV           0.782224\n",
       "radio        0.576223\n",
       "newspaper    0.228299\n",
       "Name: sales, dtype: float64"
      ]
     },
     "execution_count": 12,
     "metadata": {},
     "output_type": "execute_result"
    }
   ],
   "source": [
    "#Now checking the skewness form the data\n",
    "#To check the correlation between features we can plot heat map.\n",
    "corr_matrix=df.abs().corr()\n",
    "corr_matrix[\"sales\"].sort_values(ascending=False)"
   ]
  },
  {
   "cell_type": "code",
   "execution_count": null,
   "metadata": {},
   "outputs": [],
   "source": [
    "#we can see there is some skewness in the column TV and radio.so we will remove the skewness using the diffrent method"
   ]
  },
  {
   "cell_type": "code",
   "execution_count": 30,
   "metadata": {},
   "outputs": [
    {
     "data": {
      "image/png": "[encoded data removed]",
      "text/plain": [
       "<Figure size 432x288 with 2 Axes>"
      ]
     },
     "metadata": {
      "needs_background": "light"
     },
     "output_type": "display_data"
    }
   ],
   "source": [
    "#Checking multicilliniary using heatmap\n",
    "\n",
    "corr_df=df.iloc[:,:3].abs().corr()\n",
    "\n",
    "sns.heatmap(corr_df,vmin=-1,vmax=1,center=True,square=True,annot=True,fmt='.2g',linewidths=0.1)\n",
    "plt.show()"
   ]
  },
  {
   "cell_type": "code",
   "execution_count": null,
   "metadata": {},
   "outputs": [],
   "source": [
    "#we can see that there is no multicolliniarity between the features from the heat map."
   ]
  },
  {
   "cell_type": "code",
   "execution_count": 23,
   "metadata": {},
   "outputs": [],
   "source": [
    "x=df.drop(columns='sales',axis=1)\n",
    "y=df['sales']"
   ]
  },
  {
   "cell_type": "code",
   "execution_count": 24,
   "metadata": {},
   "outputs": [],
   "source": [
    "x_data=x"
   ]
  },
  {
   "cell_type": "code",
   "execution_count": 25,
   "metadata": {},
   "outputs": [],
   "source": [
    "#using power transform method to remove the skewness.\n",
    "from sklearn.preprocessing import power_transform"
   ]
  },
  {
   "cell_type": "code",
   "execution_count": 26,
   "metadata": {},
   "outputs": [],
   "source": [
    "x=power_transform(x,method='yeo-johnson')"
   ]
  },
  {
   "cell_type": "code",
   "execution_count": 27,
   "metadata": {},
   "outputs": [],
   "source": [
    "#Applying the standerd scalar on the data\n",
    "scalar=StandardScaler()\n",
    "x_new=scalar.fit_transform(x)"
   ]
  },
  {
   "cell_type": "code",
   "execution_count": 28,
   "metadata": {},
   "outputs": [],
   "source": [
    "#Using VIF to check feature multicolliniarity as we can see the high multicolliniarty between features\n",
    "vif=pd.DataFrame()\n",
    "vif['vif']=[variance_inflation_factor(x_new,i) for i in range(x_new.shape[1])]\n",
    "vif['feature']=x_data.columns"
   ]
  },
  {
   "cell_type": "code",
   "execution_count": 29,
   "metadata": {},
   "outputs": [
    {
     "data": {
      "text/html": [
       "<div>\n",
       "<style scoped>\n",
       "    .dataframe tbody tr th:only-of-type {\n",
       "        vertical-align: middle;\n",
       "    }\n",
       "\n",
       "    .dataframe tbody tr th {\n",
       "        vertical-align: top;\n",
       "    }\n",
       "\n",
       "    .dataframe thead th {\n",
       "        text-align: right;\n",
       "    }\n",
       "</style>\n",
       "<table border=\"1\" class=\"dataframe\">\n",
       "  <thead>\n",
       "    <tr style=\"text-align: right;\">\n",
       "      <th></th>\n",
       "      <th>vif</th>\n",
       "      <th>feature</th>\n",
       "    </tr>\n",
       "  </thead>\n",
       "  <tbody>\n",
       "    <tr>\n",
       "      <th>0</th>\n",
       "      <td>1.003112</td>\n",
       "      <td>TV</td>\n",
       "    </tr>\n",
       "    <tr>\n",
       "      <th>1</th>\n",
       "      <td>1.094332</td>\n",
       "      <td>radio</td>\n",
       "    </tr>\n",
       "    <tr>\n",
       "      <th>2</th>\n",
       "      <td>1.093766</td>\n",
       "      <td>newspaper</td>\n",
       "    </tr>\n",
       "  </tbody>\n",
       "</table>\n",
       "</div>"
      ],
      "text/plain": [
       "        vif    feature\n",
       "0  1.003112         TV\n",
       "1  1.094332      radio\n",
       "2  1.093766  newspaper"
      ]
     },
     "execution_count": 29,
     "metadata": {},
     "output_type": "execute_result"
    }
   ],
   "source": [
    "vif"
   ]
  },
  {
   "cell_type": "code",
   "execution_count": 31,
   "metadata": {},
   "outputs": [
    {
     "name": "stdout",
     "output_type": "stream",
     "text": [
      "Best Accuracy is : 93.79%\n",
      "The Best Random State is : 13\n"
     ]
    }
   ],
   "source": [
    "#Finding best Random State:\n",
    "maxAcc=0\n",
    "maxRs=0\n",
    "\n",
    "for i in range(1,200):\n",
    "    x_train,x_test,y_train,y_test=train_test_split(x_new,y,test_size=0.25,random_state=i)\n",
    "    lr=LinearRegression()\n",
    "    lr.fit(x_train,y_train)\n",
    "    y_pred=lr.predict(x_test)\n",
    "    acc_s=r2_score(y_test,y_pred)\n",
    "    if acc_s > maxAcc:\n",
    "        maxAcc=acc_s\n",
    "        maxRs=i\n",
    "    \n",
    "print(f\"Best Accuracy is : {maxAcc* 100:.2f}%\")\n",
    "print(\"The Best Random State is :\",maxRs)     "
   ]
  },
  {
   "cell_type": "code",
   "execution_count": 32,
   "metadata": {},
   "outputs": [],
   "source": [
    "#seprating the train and test datasets with the best find random state\n",
    "x_train,x_test,y_train,y_test=train_test_split(x_new,y,test_size=0.25,random_state =13)"
   ]
  },
  {
   "cell_type": "code",
   "execution_count": 33,
   "metadata": {},
   "outputs": [
    {
     "name": "stdout",
     "output_type": "stream",
     "text": [
      "The accuracy of the model using LinearRegression is: 93.79%\n",
      "\n"
     ]
    }
   ],
   "source": [
    "#model Evaluation for LR:\n",
    "lr=LinearRegression()\n",
    "lr.fit(x_train,y_train)\n",
    "\n",
    "y_predlr=lr.predict(x_test)\n",
    "\n",
    "#accuracy_scorelr=r2_score(y_test,y_predlr)\n",
    "print(f\"The accuracy of the model using LinearRegression is: {r2_score(y_test,y_predlr)*100:.2f}%\\n\")"
   ]
  },
  {
   "cell_type": "code",
   "execution_count": 34,
   "metadata": {},
   "outputs": [
    {
     "name": "stdout",
     "output_type": "stream",
     "text": [
      "The accuracy of the model using KNeighborsRegressor is: 94.08%\n",
      "\n"
     ]
    }
   ],
   "source": [
    "#model Evaluation for KNN:\n",
    "knn=KNeighborsRegressor()\n",
    "knn.fit(x_train,y_train)\n",
    "\n",
    "y_predknn=knn.predict(x_test)\n",
    "\n",
    "#accuracy_scorelr=r2_score(y_test,y_predlr)\n",
    "print(f\"The accuracy of the model using KNeighborsRegressor is: {r2_score(y_test,y_predknn)*100:.2f}%\\n\")"
   ]
  },
  {
   "cell_type": "code",
   "execution_count": 35,
   "metadata": {},
   "outputs": [
    {
     "name": "stdout",
     "output_type": "stream",
     "text": [
      "The accuracy of the model using RandomForestRegressor is: 97.72%\n",
      "\n"
     ]
    }
   ],
   "source": [
    "#model Evaluation for RandomForestRegressor:\n",
    "rfr=RandomForestRegressor()\n",
    "rfr.fit(x_train,y_train)\n",
    "\n",
    "y_predrfr=rfr.predict(x_test)\n",
    "\n",
    "#accuracy_scorelr=r2_score(y_test,y_predlr)\n",
    "print(f\"The accuracy of the model using RandomForestRegressor is: {r2_score(y_test,y_predrfr)*100:.2f}%\\n\")"
   ]
  },
  {
   "cell_type": "code",
   "execution_count": 36,
   "metadata": {},
   "outputs": [
    {
     "name": "stdout",
     "output_type": "stream",
     "text": [
      "The accuracy of the model using AdaBoostRegressor is: 94.89%\n",
      "\n"
     ]
    }
   ],
   "source": [
    "#model Evaluation for AdaBoostRegressor:\n",
    "ada=AdaBoostRegressor()\n",
    "ada.fit(x_train,y_train)\n",
    "\n",
    "y_predada=ada.predict(x_test)\n",
    "\n",
    "#accuracy_scorelr=r2_score(y_test,y_predlr)\n",
    "print(f\"The accuracy of the model using AdaBoostRegressor is: {r2_score(y_test,y_predada)*100:.2f}%\\n\")"
   ]
  },
  {
   "cell_type": "code",
   "execution_count": 37,
   "metadata": {},
   "outputs": [
    {
     "name": "stdout",
     "output_type": "stream",
     "text": [
      "The accuracy of the model using SVR is: 88.09%\n",
      "\n"
     ]
    }
   ],
   "source": [
    "#model Evaluation for SVR:\n",
    "svr=SVR()\n",
    "svr.fit(x_train,y_train)\n",
    "\n",
    "y_predsvr=svr.predict(x_test)\n",
    "\n",
    "#accuracy_scorelr=r2_score(y_test,y_predlr)\n",
    "print(f\"The accuracy of the model using SVR is: {r2_score(y_test,y_predsvr)*100:.2f}%\\n\")"
   ]
  },
  {
   "cell_type": "code",
   "execution_count": 38,
   "metadata": {},
   "outputs": [],
   "source": [
    "#now validation the all the models using the cross_val_score\n",
    "from sklearn.model_selection import cross_val_score"
   ]
  },
  {
   "cell_type": "code",
   "execution_count": 39,
   "metadata": {},
   "outputs": [
    {
     "name": "stdout",
     "output_type": "stream",
     "text": [
      "\n",
      "==========Cross Validation Score of Random Forest Regressor===========\n",
      "Cross validation for the Random Forest Regressor is: 97.43%\n",
      "\n",
      "\n",
      "=============Cross Validation Score of Linear Reggression==============\n",
      "Cross validation for the Linear Reggression is: 89.78%\n",
      "\n",
      "\n",
      "=============Cross Validation Score of KNeighborsRegressor==============\n",
      "Cross validation for the KNeighborsRegressor is: 94.38%\n",
      "\n",
      "\n",
      "============Cross Validation Score of AdaBoostRegressor===================\n",
      "Cross validation for the AdaBoostRegressor is: 95.21%\n",
      "\n",
      "\n",
      "===================Cross Validation Score of SVR========================\n",
      "Cross validation for the KNN Classifier is: 91.71%\n",
      "\n"
     ]
    }
   ],
   "source": [
    "print('\\n==========Cross Validation Score of Random Forest Regressor===========')\n",
    "cvs_rfr=cross_val_score(rfr,x_new,y,cv=5)\n",
    "print(f\"Cross validation for the Random Forest Regressor is: {cvs_rfr.mean()*100:.2f}%\\n\")\n",
    "\n",
    "print('\\n=============Cross Validation Score of Linear Reggression==============')\n",
    "cvs_lr=cross_val_score(lr,x_new,y,cv=5)\n",
    "print(f\"Cross validation for the Linear Reggression is: {cvs_lr.mean()*100:.2f}%\\n\")\n",
    "\n",
    "print('\\n=============Cross Validation Score of KNeighborsRegressor==============')\n",
    "cvs_knn=cross_val_score(knn,x_new,y,cv=5)\n",
    "print(f\"Cross validation for the KNeighborsRegressor is: {cvs_knn.mean()*100:.2f}%\\n\")\n",
    "\n",
    "print('\\n============Cross Validation Score of AdaBoostRegressor===================')\n",
    "cvs_ada=cross_val_score(ada,x_new,y,cv=5)\n",
    "print(f\"Cross validation for the AdaBoostRegressor is: {cvs_ada.mean()*100:.2f}%\\n\")\n",
    "\n",
    "print('\\n===================Cross Validation Score of SVR========================')\n",
    "cvs_svr=cross_val_score(svr,x_new,y,cv=5)\n",
    "print(f\"Cross validation for the KNN Classifier is: {cvs_svr.mean()*100:.2f}%\\n\")"
   ]
  },
  {
   "cell_type": "code",
   "execution_count": null,
   "metadata": {},
   "outputs": [],
   "source": [
    "#we select the Random Forest Regressor after comaparing all the models accuracy with the cross validation score.\n",
    "#LR: Accuracy:93.79   cross validation score:89.78  Diffrence:4.01\n",
    "#KNN: Accuracy:94.08   cross validation score:94.38  Diffrence:-0.3\n",
    "#RFR: Accuracy:97.72   cross validation score:94.38  Diffrence:0.29\n",
    "#ABR: Accuracy:94.89   cross validation score:95.21  Diffrence:-0.32\n",
    "#SVR: Accuracy:88.09   cross validation score:91.71  Diffrence:-3.62\n",
    "\n",
    "#here we can see the overfitting and underfitting senario like:SVR,ABR and KNN show negative diffrence.means underfitting\n",
    "#but we can see the Random Forest Regressor has highest accuracy and least differnece so we can select it for hyper parameter tuing."
   ]
  },
  {
   "cell_type": "code",
   "execution_count": null,
   "metadata": {},
   "outputs": [],
   "source": [
    "#now performing the hyper parameter tuning using gridsearchcv"
   ]
  },
  {
   "cell_type": "code",
   "execution_count": 40,
   "metadata": {},
   "outputs": [],
   "source": [
    "#Now Appling the gridsearchcv beofore building the model to check the best parameter.\n",
    "best_param={'n_estimators':[80,90,100],\n",
    "           'max_depth':[10,12,15],\n",
    "           'min_samples_split':[2,3,5],\n",
    "           'min_samples_leaf':[2,4,6]}"
   ]
  },
  {
   "cell_type": "code",
   "execution_count": 41,
   "metadata": {},
   "outputs": [],
   "source": [
    "gridcv=GridSearchCV(rfr,param_grid=best_param)"
   ]
  },
  {
   "cell_type": "code",
   "execution_count": 42,
   "metadata": {},
   "outputs": [
    {
     "data": {
      "text/plain": [
       "GridSearchCV(estimator=RandomForestRegressor(),\n",
       "             param_grid={'max_depth': [10, 12, 15],\n",
       "                         'min_samples_leaf': [2, 4, 6],\n",
       "                         'min_samples_split': [2, 3, 5],\n",
       "                         'n_estimators': [80, 90, 100]})"
      ]
     },
     "execution_count": 42,
     "metadata": {},
     "output_type": "execute_result"
    }
   ],
   "source": [
    "gridcv.fit(x_train,y_train)"
   ]
  },
  {
   "cell_type": "code",
   "execution_count": 43,
   "metadata": {},
   "outputs": [
    {
     "data": {
      "text/plain": [
       "{'max_depth': 12,\n",
       " 'min_samples_leaf': 2,\n",
       " 'min_samples_split': 3,\n",
       " 'n_estimators': 80}"
      ]
     },
     "execution_count": 43,
     "metadata": {},
     "output_type": "execute_result"
    }
   ],
   "source": [
    "gridcv.best_params_"
   ]
  },
  {
   "cell_type": "code",
   "execution_count": 44,
   "metadata": {},
   "outputs": [
    {
     "name": "stdout",
     "output_type": "stream",
     "text": [
      "The accuracy of the model using RandomForestRegressor is: 97.76%\n",
      "\n"
     ]
    }
   ],
   "source": [
    "#model Evaluation for RandomForestRegressor:\n",
    "rfr=RandomForestRegressor(max_depth=12,min_samples_leaf=2,min_samples_split=3,n_estimators=80)\n",
    "rfr.fit(x_train,y_train)\n",
    "\n",
    "y_predrfr=rfr.predict(x_test)\n",
    "\n",
    "#accuracy_scorelr=r2_score(y_test,y_predlr)\n",
    "print(f\"The accuracy of the model using RandomForestRegressor is: {r2_score(y_test,y_predrfr)*100:.2f}%\\n\")"
   ]
  },
  {
   "cell_type": "code",
   "execution_count": 45,
   "metadata": {},
   "outputs": [
    {
     "name": "stdout",
     "output_type": "stream",
     "text": [
      "\n",
      "==========Cross Validation Score of Random Forest Regressor===========\n",
      "Cross validation for the Random Forest Regressor is: 97.39%\n",
      "\n"
     ]
    }
   ],
   "source": [
    "print('\\n==========Cross Validation Score of Random Forest Regressor===========')\n",
    "cvs_rfr=cross_val_score(rfr,x_new,y,cv=5)\n",
    "print(f\"Cross validation for the Random Forest Regressor is: {cvs_rfr.mean()*100:.2f}%\\n\")"
   ]
  },
  {
   "cell_type": "code",
   "execution_count": null,
   "metadata": {},
   "outputs": [],
   "source": [
    "#here the differnce is very less between accuracy and cross validation score after performing hyper parameter tuning.\n",
    "#so we are saving Random Forest Regressor as our final model."
   ]
  },
  {
   "cell_type": "code",
   "execution_count": 49,
   "metadata": {},
   "outputs": [
    {
     "data": {
      "text/plain": [
       "['SalesChannelPrediction_Model.pkl']"
      ]
     },
     "execution_count": 49,
     "metadata": {},
     "output_type": "execute_result"
    }
   ],
   "source": [
    "#Saving the model\n",
    "import joblib\n",
    "joblib.dump(rfr,'SalesChannelPrediction_Model.pkl')"
   ]
  },
  {
   "cell_type": "code",
   "execution_count": null,
   "metadata": {},
   "outputs": [],
   "source": []
  }
 ],
 "metadata": {
  "kernelspec": {
   "display_name": "Python 3",
   "language": "python",
   "name": "python3"
  },
  "language_info": {
   "codemirror_mode": {
    "name": "ipython",
    "version": 3
   },
   "file_extension": ".py",
   "mimetype": "text/x-python",
   "name": "python",
   "nbconvert_exporter": "python",
   "pygments_lexer": "ipython3",
   "version": "3.8.5"
  }
 },
 "nbformat": 4,
 "nbformat_minor": 4
}
