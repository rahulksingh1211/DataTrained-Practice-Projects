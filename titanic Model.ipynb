{
 "cells": [
  {
   "cell_type": "code",
   "execution_count": 3,
   "metadata": {},
   "outputs": [],
   "source": [
    "#Discription:\n",
    "#The Titanic Problem is based on the sinking of the ‘Unsinkable’ ship.the data consist of diffrent parameter.\n",
    "#the target is to pridict the servival of the pasanger on the ship depend on diffrent features.\n",
    "#this is basically a classification problem."
   ]
  },
  {
   "cell_type": "code",
   "execution_count": 636,
   "metadata": {},
   "outputs": [],
   "source": [
    "#common lib\n",
    "import numpy as np\n",
    "import pandas as pd\n",
    "import matplotlib.pyplot as plt\n",
    "import seaborn as sns\n",
    "%matplotlib inline\n",
    "\n",
    "#preprocessing lib:\n",
    "from sklearn.preprocessing import OneHotEncoder,LabelEncoder,StandardScaler\n",
    "from sklearn.model_selection import train_test_split,cross_val_score\n",
    "\n",
    "#Outliers lib:\n",
    "from scipy import stats\n",
    "\n",
    "#multicollinarity lib:\n",
    "from statsmodels.stats.outliers_influence import variance_inflation_factor\n",
    "\n",
    "#model building lib:\n",
    "from sklearn.linear_model import LogisticRegression\n",
    "from sklearn.tree import DecisionTreeClassifier\n",
    "from sklearn.neighbors import KNeighborsClassifier\n",
    "from sklearn.ensemble import RandomForestClassifier,AdaBoostClassifier\n",
    "from sklearn.svm import SVC\n",
    "\n",
    "#model cross validation lib:\n",
    "from sklearn.metrics import accuracy_score,classification_report,roc_auc_score,confusion_matrix,plot_roc_curve\n",
    "from sklearn.model_selection import cross_val_score\n",
    "\n",
    "#hyper parameter tuning lib:\n",
    "from sklearn.model_selection import GridSearchCV,RandomizedSearchCV\n",
    "\n",
    "#Error lib\n",
    "import warnings\n",
    "warnings.filterwarnings('ignore')"
   ]
  },
  {
   "cell_type": "code",
   "execution_count": 551,
   "metadata": {},
   "outputs": [
    {
     "data": {
      "text/html": [
       "<div>\n",
       "<style scoped>\n",
       "    .dataframe tbody tr th:only-of-type {\n",
       "        vertical-align: middle;\n",
       "    }\n",
       "\n",
       "    .dataframe tbody tr th {\n",
       "        vertical-align: top;\n",
       "    }\n",
       "\n",
       "    .dataframe thead th {\n",
       "        text-align: right;\n",
       "    }\n",
       "</style>\n",
       "<table border=\"1\" class=\"dataframe\">\n",
       "  <thead>\n",
       "    <tr style=\"text-align: right;\">\n",
       "      <th></th>\n",
       "      <th>PassengerId</th>\n",
       "      <th>Survived</th>\n",
       "      <th>Pclass</th>\n",
       "      <th>Name</th>\n",
       "      <th>Sex</th>\n",
       "      <th>Age</th>\n",
       "      <th>SibSp</th>\n",
       "      <th>Parch</th>\n",
       "      <th>Ticket</th>\n",
       "      <th>Fare</th>\n",
       "      <th>Cabin</th>\n",
       "      <th>Embarked</th>\n",
       "    </tr>\n",
       "  </thead>\n",
       "  <tbody>\n",
       "    <tr>\n",
       "      <th>0</th>\n",
       "      <td>1</td>\n",
       "      <td>0</td>\n",
       "      <td>3</td>\n",
       "      <td>Braund, Mr. Owen Harris</td>\n",
       "      <td>male</td>\n",
       "      <td>22.0</td>\n",
       "      <td>1</td>\n",
       "      <td>0</td>\n",
       "      <td>A/5 21171</td>\n",
       "      <td>7.2500</td>\n",
       "      <td>NaN</td>\n",
       "      <td>S</td>\n",
       "    </tr>\n",
       "    <tr>\n",
       "      <th>1</th>\n",
       "      <td>2</td>\n",
       "      <td>1</td>\n",
       "      <td>1</td>\n",
       "      <td>Cumings, Mrs. John Bradley (Florence Briggs Th...</td>\n",
       "      <td>female</td>\n",
       "      <td>38.0</td>\n",
       "      <td>1</td>\n",
       "      <td>0</td>\n",
       "      <td>PC 17599</td>\n",
       "      <td>71.2833</td>\n",
       "      <td>C85</td>\n",
       "      <td>C</td>\n",
       "    </tr>\n",
       "    <tr>\n",
       "      <th>2</th>\n",
       "      <td>3</td>\n",
       "      <td>1</td>\n",
       "      <td>3</td>\n",
       "      <td>Heikkinen, Miss. Laina</td>\n",
       "      <td>female</td>\n",
       "      <td>26.0</td>\n",
       "      <td>0</td>\n",
       "      <td>0</td>\n",
       "      <td>STON/O2. 3101282</td>\n",
       "      <td>7.9250</td>\n",
       "      <td>NaN</td>\n",
       "      <td>S</td>\n",
       "    </tr>\n",
       "    <tr>\n",
       "      <th>3</th>\n",
       "      <td>4</td>\n",
       "      <td>1</td>\n",
       "      <td>1</td>\n",
       "      <td>Futrelle, Mrs. Jacques Heath (Lily May Peel)</td>\n",
       "      <td>female</td>\n",
       "      <td>35.0</td>\n",
       "      <td>1</td>\n",
       "      <td>0</td>\n",
       "      <td>113803</td>\n",
       "      <td>53.1000</td>\n",
       "      <td>C123</td>\n",
       "      <td>S</td>\n",
       "    </tr>\n",
       "    <tr>\n",
       "      <th>4</th>\n",
       "      <td>5</td>\n",
       "      <td>0</td>\n",
       "      <td>3</td>\n",
       "      <td>Allen, Mr. William Henry</td>\n",
       "      <td>male</td>\n",
       "      <td>35.0</td>\n",
       "      <td>0</td>\n",
       "      <td>0</td>\n",
       "      <td>373450</td>\n",
       "      <td>8.0500</td>\n",
       "      <td>NaN</td>\n",
       "      <td>S</td>\n",
       "    </tr>\n",
       "  </tbody>\n",
       "</table>\n",
       "</div>"
      ],
      "text/plain": [
       "   PassengerId  Survived  Pclass  \\\n",
       "0            1         0       3   \n",
       "1            2         1       1   \n",
       "2            3         1       3   \n",
       "3            4         1       1   \n",
       "4            5         0       3   \n",
       "\n",
       "                                                Name     Sex   Age  SibSp  \\\n",
       "0                            Braund, Mr. Owen Harris    male  22.0      1   \n",
       "1  Cumings, Mrs. John Bradley (Florence Briggs Th...  female  38.0      1   \n",
       "2                             Heikkinen, Miss. Laina  female  26.0      0   \n",
       "3       Futrelle, Mrs. Jacques Heath (Lily May Peel)  female  35.0      1   \n",
       "4                           Allen, Mr. William Henry    male  35.0      0   \n",
       "\n",
       "   Parch            Ticket     Fare Cabin Embarked  \n",
       "0      0         A/5 21171   7.2500   NaN        S  \n",
       "1      0          PC 17599  71.2833   C85        C  \n",
       "2      0  STON/O2. 3101282   7.9250   NaN        S  \n",
       "3      0            113803  53.1000  C123        S  \n",
       "4      0            373450   8.0500   NaN        S  "
      ]
     },
     "execution_count": 551,
     "metadata": {},
     "output_type": "execute_result"
    }
   ],
   "source": [
    "#Loading the Dataset:\n",
    "df=pd.read_csv('titanic_train.csv')\n",
    "df.head()"
   ]
  },
  {
   "cell_type": "code",
   "execution_count": 552,
   "metadata": {},
   "outputs": [],
   "source": [
    "pd.set_option('display.max_rows',None)"
   ]
  },
  {
   "cell_type": "code",
   "execution_count": 553,
   "metadata": {},
   "outputs": [
    {
     "data": {
      "text/plain": [
       "(891, 12)"
      ]
     },
     "execution_count": 553,
     "metadata": {},
     "output_type": "execute_result"
    }
   ],
   "source": [
    "df.shape"
   ]
  },
  {
   "cell_type": "code",
   "execution_count": 554,
   "metadata": {},
   "outputs": [],
   "source": [
    "#there is 891 rows and 12 columns is availble in the data"
   ]
  },
  {
   "cell_type": "code",
   "execution_count": 555,
   "metadata": {},
   "outputs": [
    {
     "name": "stdout",
     "output_type": "stream",
     "text": [
      "<class 'pandas.core.frame.DataFrame'>\n",
      "RangeIndex: 891 entries, 0 to 890\n",
      "Data columns (total 12 columns):\n",
      " #   Column       Non-Null Count  Dtype  \n",
      "---  ------       --------------  -----  \n",
      " 0   PassengerId  891 non-null    int64  \n",
      " 1   Survived     891 non-null    int64  \n",
      " 2   Pclass       891 non-null    int64  \n",
      " 3   Name         891 non-null    object \n",
      " 4   Sex          891 non-null    object \n",
      " 5   Age          714 non-null    float64\n",
      " 6   SibSp        891 non-null    int64  \n",
      " 7   Parch        891 non-null    int64  \n",
      " 8   Ticket       891 non-null    object \n",
      " 9   Fare         891 non-null    float64\n",
      " 10  Cabin        204 non-null    object \n",
      " 11  Embarked     889 non-null    object \n",
      "dtypes: float64(2), int64(5), object(5)\n",
      "memory usage: 83.7+ KB\n"
     ]
    }
   ],
   "source": [
    "df.info()\n",
    "#here we can see that we have total 11 features with datatype float64,int,object and 1 label with int datatype."
   ]
  },
  {
   "cell_type": "code",
   "execution_count": 556,
   "metadata": {},
   "outputs": [
    {
     "data": {
      "text/plain": [
       "PassengerId      0\n",
       "Survived         0\n",
       "Pclass           0\n",
       "Name             0\n",
       "Sex              0\n",
       "Age            177\n",
       "SibSp            0\n",
       "Parch            0\n",
       "Ticket           0\n",
       "Fare             0\n",
       "Cabin          687\n",
       "Embarked         2\n",
       "dtype: int64"
      ]
     },
     "execution_count": 556,
     "metadata": {},
     "output_type": "execute_result"
    }
   ],
   "source": [
    "#checking the null value in the dataframe\n",
    "df.isnull().sum()"
   ]
  },
  {
   "cell_type": "code",
   "execution_count": 557,
   "metadata": {},
   "outputs": [],
   "source": [
    "#Here we can see than we have two null features\n",
    "#Age: 177\n",
    "#Cabin: 687\n",
    "#Embarked : 2\n",
    "#As the cabin feature has more than 50% of null values so it is better to delete the feature insted of replacing with some value."
   ]
  },
  {
   "cell_type": "code",
   "execution_count": 558,
   "metadata": {},
   "outputs": [],
   "source": [
    "#dropping the feature Cabin having more than 50% null value\n",
    "df=df.drop(columns='Cabin',axis=1)"
   ]
  },
  {
   "cell_type": "code",
   "execution_count": 559,
   "metadata": {},
   "outputs": [],
   "source": [
    "#taking the mean of the age feature to replace the null value with the mean value\n",
    "#df['Age']=df['Age'].replace(np.nan,df['Age'].mean())\n",
    "df[\"Age\"]=df[\"Age\"].fillna(df[\"Age\"].mean())"
   ]
  },
  {
   "cell_type": "code",
   "execution_count": 560,
   "metadata": {},
   "outputs": [],
   "source": [
    "#replacing the nan value with the most frquent catagory\n",
    "df['Embarked']=df['Embarked'].fillna(df['Embarked'].mode()[0])"
   ]
  },
  {
   "cell_type": "code",
   "execution_count": 561,
   "metadata": {},
   "outputs": [
    {
     "data": {
      "text/plain": [
       "PassengerId    0\n",
       "Survived       0\n",
       "Pclass         0\n",
       "Name           0\n",
       "Sex            0\n",
       "Age            0\n",
       "SibSp          0\n",
       "Parch          0\n",
       "Ticket         0\n",
       "Fare           0\n",
       "Embarked       0\n",
       "dtype: int64"
      ]
     },
     "execution_count": 561,
     "metadata": {},
     "output_type": "execute_result"
    }
   ],
   "source": [
    "#checking the null value in the dataframe\n",
    "df.isnull().sum()\n",
    "#As we can have replaced all the nan values with some values"
   ]
  },
  {
   "cell_type": "code",
   "execution_count": 562,
   "metadata": {},
   "outputs": [
    {
     "data": {
      "text/html": [
       "<div>\n",
       "<style scoped>\n",
       "    .dataframe tbody tr th:only-of-type {\n",
       "        vertical-align: middle;\n",
       "    }\n",
       "\n",
       "    .dataframe tbody tr th {\n",
       "        vertical-align: top;\n",
       "    }\n",
       "\n",
       "    .dataframe thead th {\n",
       "        text-align: right;\n",
       "    }\n",
       "</style>\n",
       "<table border=\"1\" class=\"dataframe\">\n",
       "  <thead>\n",
       "    <tr style=\"text-align: right;\">\n",
       "      <th></th>\n",
       "      <th>PassengerId</th>\n",
       "      <th>Survived</th>\n",
       "      <th>Pclass</th>\n",
       "      <th>Name</th>\n",
       "      <th>Sex</th>\n",
       "      <th>Age</th>\n",
       "      <th>SibSp</th>\n",
       "      <th>Parch</th>\n",
       "      <th>Ticket</th>\n",
       "      <th>Fare</th>\n",
       "      <th>Embarked</th>\n",
       "    </tr>\n",
       "  </thead>\n",
       "  <tbody>\n",
       "    <tr>\n",
       "      <th>0</th>\n",
       "      <td>1</td>\n",
       "      <td>0</td>\n",
       "      <td>3</td>\n",
       "      <td>Braund, Mr. Owen Harris</td>\n",
       "      <td>male</td>\n",
       "      <td>22.0</td>\n",
       "      <td>1</td>\n",
       "      <td>0</td>\n",
       "      <td>A/5 21171</td>\n",
       "      <td>7.2500</td>\n",
       "      <td>S</td>\n",
       "    </tr>\n",
       "    <tr>\n",
       "      <th>1</th>\n",
       "      <td>2</td>\n",
       "      <td>1</td>\n",
       "      <td>1</td>\n",
       "      <td>Cumings, Mrs. John Bradley (Florence Briggs Th...</td>\n",
       "      <td>female</td>\n",
       "      <td>38.0</td>\n",
       "      <td>1</td>\n",
       "      <td>0</td>\n",
       "      <td>PC 17599</td>\n",
       "      <td>71.2833</td>\n",
       "      <td>C</td>\n",
       "    </tr>\n",
       "    <tr>\n",
       "      <th>2</th>\n",
       "      <td>3</td>\n",
       "      <td>1</td>\n",
       "      <td>3</td>\n",
       "      <td>Heikkinen, Miss. Laina</td>\n",
       "      <td>female</td>\n",
       "      <td>26.0</td>\n",
       "      <td>0</td>\n",
       "      <td>0</td>\n",
       "      <td>STON/O2. 3101282</td>\n",
       "      <td>7.9250</td>\n",
       "      <td>S</td>\n",
       "    </tr>\n",
       "    <tr>\n",
       "      <th>3</th>\n",
       "      <td>4</td>\n",
       "      <td>1</td>\n",
       "      <td>1</td>\n",
       "      <td>Futrelle, Mrs. Jacques Heath (Lily May Peel)</td>\n",
       "      <td>female</td>\n",
       "      <td>35.0</td>\n",
       "      <td>1</td>\n",
       "      <td>0</td>\n",
       "      <td>113803</td>\n",
       "      <td>53.1000</td>\n",
       "      <td>S</td>\n",
       "    </tr>\n",
       "    <tr>\n",
       "      <th>4</th>\n",
       "      <td>5</td>\n",
       "      <td>0</td>\n",
       "      <td>3</td>\n",
       "      <td>Allen, Mr. William Henry</td>\n",
       "      <td>male</td>\n",
       "      <td>35.0</td>\n",
       "      <td>0</td>\n",
       "      <td>0</td>\n",
       "      <td>373450</td>\n",
       "      <td>8.0500</td>\n",
       "      <td>S</td>\n",
       "    </tr>\n",
       "  </tbody>\n",
       "</table>\n",
       "</div>"
      ],
      "text/plain": [
       "   PassengerId  Survived  Pclass  \\\n",
       "0            1         0       3   \n",
       "1            2         1       1   \n",
       "2            3         1       3   \n",
       "3            4         1       1   \n",
       "4            5         0       3   \n",
       "\n",
       "                                                Name     Sex   Age  SibSp  \\\n",
       "0                            Braund, Mr. Owen Harris    male  22.0      1   \n",
       "1  Cumings, Mrs. John Bradley (Florence Briggs Th...  female  38.0      1   \n",
       "2                             Heikkinen, Miss. Laina  female  26.0      0   \n",
       "3       Futrelle, Mrs. Jacques Heath (Lily May Peel)  female  35.0      1   \n",
       "4                           Allen, Mr. William Henry    male  35.0      0   \n",
       "\n",
       "   Parch            Ticket     Fare Embarked  \n",
       "0      0         A/5 21171   7.2500        S  \n",
       "1      0          PC 17599  71.2833        C  \n",
       "2      0  STON/O2. 3101282   7.9250        S  \n",
       "3      0            113803  53.1000        S  \n",
       "4      0            373450   8.0500        S  "
      ]
     },
     "execution_count": 562,
     "metadata": {},
     "output_type": "execute_result"
    }
   ],
   "source": [
    "df.head()"
   ]
  },
  {
   "cell_type": "code",
   "execution_count": 563,
   "metadata": {},
   "outputs": [],
   "source": [
    "#Dropping the columns Name as is has all the name values and it is not useful for the model building\n",
    "df=df.drop(columns='Name',axis=1)"
   ]
  },
  {
   "cell_type": "code",
   "execution_count": 564,
   "metadata": {},
   "outputs": [
    {
     "data": {
      "text/html": [
       "<div>\n",
       "<style scoped>\n",
       "    .dataframe tbody tr th:only-of-type {\n",
       "        vertical-align: middle;\n",
       "    }\n",
       "\n",
       "    .dataframe tbody tr th {\n",
       "        vertical-align: top;\n",
       "    }\n",
       "\n",
       "    .dataframe thead th {\n",
       "        text-align: right;\n",
       "    }\n",
       "</style>\n",
       "<table border=\"1\" class=\"dataframe\">\n",
       "  <thead>\n",
       "    <tr style=\"text-align: right;\">\n",
       "      <th></th>\n",
       "      <th>PassengerId</th>\n",
       "      <th>Survived</th>\n",
       "      <th>Pclass</th>\n",
       "      <th>Sex</th>\n",
       "      <th>Age</th>\n",
       "      <th>SibSp</th>\n",
       "      <th>Parch</th>\n",
       "      <th>Ticket</th>\n",
       "      <th>Fare</th>\n",
       "      <th>Embarked</th>\n",
       "    </tr>\n",
       "  </thead>\n",
       "  <tbody>\n",
       "    <tr>\n",
       "      <th>0</th>\n",
       "      <td>1</td>\n",
       "      <td>0</td>\n",
       "      <td>3</td>\n",
       "      <td>male</td>\n",
       "      <td>22.0</td>\n",
       "      <td>1</td>\n",
       "      <td>0</td>\n",
       "      <td>A/5 21171</td>\n",
       "      <td>7.2500</td>\n",
       "      <td>S</td>\n",
       "    </tr>\n",
       "    <tr>\n",
       "      <th>1</th>\n",
       "      <td>2</td>\n",
       "      <td>1</td>\n",
       "      <td>1</td>\n",
       "      <td>female</td>\n",
       "      <td>38.0</td>\n",
       "      <td>1</td>\n",
       "      <td>0</td>\n",
       "      <td>PC 17599</td>\n",
       "      <td>71.2833</td>\n",
       "      <td>C</td>\n",
       "    </tr>\n",
       "    <tr>\n",
       "      <th>2</th>\n",
       "      <td>3</td>\n",
       "      <td>1</td>\n",
       "      <td>3</td>\n",
       "      <td>female</td>\n",
       "      <td>26.0</td>\n",
       "      <td>0</td>\n",
       "      <td>0</td>\n",
       "      <td>STON/O2. 3101282</td>\n",
       "      <td>7.9250</td>\n",
       "      <td>S</td>\n",
       "    </tr>\n",
       "    <tr>\n",
       "      <th>3</th>\n",
       "      <td>4</td>\n",
       "      <td>1</td>\n",
       "      <td>1</td>\n",
       "      <td>female</td>\n",
       "      <td>35.0</td>\n",
       "      <td>1</td>\n",
       "      <td>0</td>\n",
       "      <td>113803</td>\n",
       "      <td>53.1000</td>\n",
       "      <td>S</td>\n",
       "    </tr>\n",
       "    <tr>\n",
       "      <th>4</th>\n",
       "      <td>5</td>\n",
       "      <td>0</td>\n",
       "      <td>3</td>\n",
       "      <td>male</td>\n",
       "      <td>35.0</td>\n",
       "      <td>0</td>\n",
       "      <td>0</td>\n",
       "      <td>373450</td>\n",
       "      <td>8.0500</td>\n",
       "      <td>S</td>\n",
       "    </tr>\n",
       "  </tbody>\n",
       "</table>\n",
       "</div>"
      ],
      "text/plain": [
       "   PassengerId  Survived  Pclass     Sex   Age  SibSp  Parch  \\\n",
       "0            1         0       3    male  22.0      1      0   \n",
       "1            2         1       1  female  38.0      1      0   \n",
       "2            3         1       3  female  26.0      0      0   \n",
       "3            4         1       1  female  35.0      1      0   \n",
       "4            5         0       3    male  35.0      0      0   \n",
       "\n",
       "             Ticket     Fare Embarked  \n",
       "0         A/5 21171   7.2500        S  \n",
       "1          PC 17599  71.2833        C  \n",
       "2  STON/O2. 3101282   7.9250        S  \n",
       "3            113803  53.1000        S  \n",
       "4            373450   8.0500        S  "
      ]
     },
     "execution_count": 564,
     "metadata": {},
     "output_type": "execute_result"
    }
   ],
   "source": [
    "df.head()"
   ]
  },
  {
   "cell_type": "code",
   "execution_count": 565,
   "metadata": {},
   "outputs": [
    {
     "data": {
      "text/plain": [
       "347082                7\n",
       "1601                  7\n",
       "CA. 2343              7\n",
       "3101295               6\n",
       "347088                6\n",
       "CA 2144               6\n",
       "382652                5\n",
       "S.O.C. 14879          5\n",
       "17421                 4\n",
       "LINE                  4\n",
       "W./C. 6608            4\n",
       "4133                  4\n",
       "2666                  4\n",
       "347077                4\n",
       "113760                4\n",
       "349909                4\n",
       "PC 17757              4\n",
       "19950                 4\n",
       "113781                4\n",
       "239853                3\n",
       "35273                 3\n",
       "363291                3\n",
       "345773                3\n",
       "24160                 3\n",
       "347742                3\n",
       "PC 17582              3\n",
       "SC/Paris 2123         3\n",
       "PC 17755              3\n",
       "F.C.C. 13529          3\n",
       "PC 17760              3\n",
       "C.A. 34651            3\n",
       "248727                3\n",
       "230080                3\n",
       "110152                3\n",
       "110413                3\n",
       "371110                3\n",
       "13502                 3\n",
       "29106                 3\n",
       "C.A. 31921            3\n",
       "PC 17572              3\n",
       "2627                  2\n",
       "2908                  2\n",
       "364849                2\n",
       "26360                 2\n",
       "2653                  2\n",
       "PC 17611              2\n",
       "36947                 2\n",
       "11668                 2\n",
       "C.A. 2673             2\n",
       "113505                2\n",
       "364516                2\n",
       "PC 17485              2\n",
       "31027                 2\n",
       "PC 17593              2\n",
       "111361                2\n",
       "244367                2\n",
       "113572                2\n",
       "250644                2\n",
       "11751                 2\n",
       "W./C. 6607            2\n",
       "C.A. 37671            2\n",
       "231919                2\n",
       "12749                 2\n",
       "113776                2\n",
       "29750                 2\n",
       "370129                2\n",
       "PC 17569              2\n",
       "PP 9549               2\n",
       "2661                  2\n",
       "244252                2\n",
       "WE/P 5735             2\n",
       "2665                  2\n",
       "S.C./PARIS 2079       2\n",
       "220845                2\n",
       "A/4 48871             2\n",
       "C.A. 2315             2\n",
       "2651                  2\n",
       "2659                  2\n",
       "250649                2\n",
       "PC 17604              2\n",
       "347080                2\n",
       "19943                 2\n",
       "243847                2\n",
       "PC 17761              2\n",
       "PC 17477              2\n",
       "110465                2\n",
       "C.A. 33112            2\n",
       "PC 17758              2\n",
       "2699                  2\n",
       "3101278               2\n",
       "A/5. 3336             2\n",
       "230433                2\n",
       "2691                  2\n",
       "113789                2\n",
       "PC 17558              2\n",
       "367230                2\n",
       "113803                2\n",
       "250647                2\n",
       "STON/O2. 3101279      2\n",
       "347054                2\n",
       "11767                 2\n",
       "35281                 2\n",
       "16966                 2\n",
       "36973                 2\n",
       "113798                2\n",
       "230136                2\n",
       "250655                2\n",
       "392096                2\n",
       "11967                 2\n",
       "237736                2\n",
       "P/PP 3381             2\n",
       "239865                2\n",
       "113806                2\n",
       "248738                2\n",
       "17453                 2\n",
       "19996                 2\n",
       "358585                2\n",
       "PC 17608              2\n",
       "2678                  2\n",
       "19877                 2\n",
       "2668                  2\n",
       "13507                 2\n",
       "S.O./P.P. 3           2\n",
       "370365                2\n",
       "376564                2\n",
       "28403                 2\n",
       "19928                 2\n",
       "367226                2\n",
       "7534                  2\n",
       "36928                 2\n",
       "349237                2\n",
       "17474                 2\n",
       "54636                 2\n",
       "345764                2\n",
       "C.A. 24580            1\n",
       "347083                1\n",
       "349216                1\n",
       "248733                1\n",
       "2669                  1\n",
       "348121                1\n",
       "350042                1\n",
       "SC/AH 29037           1\n",
       "2685                  1\n",
       "349234                1\n",
       "C.A. 33595            1\n",
       "367232                1\n",
       "372622                1\n",
       "2626                  1\n",
       "250651                1\n",
       "A./5. 3235            1\n",
       "5727                  1\n",
       "SW/PP 751             1\n",
       "237798                1\n",
       "364846                1\n",
       "2686                  1\n",
       "STON/O 2. 3101293     1\n",
       "19988                 1\n",
       "STON/O2. 3101283      1\n",
       "PC 17600              1\n",
       "239856                1\n",
       "376566                1\n",
       "349217                1\n",
       "350043                1\n",
       "230434                1\n",
       "347071                1\n",
       "330919                1\n",
       "A./5. 2152            1\n",
       "17463                 1\n",
       "349227                1\n",
       "248723                1\n",
       "237668                1\n",
       "350407                1\n",
       "330931                1\n",
       "244358                1\n",
       "349203                1\n",
       "248731                1\n",
       "113800                1\n",
       "PC 17609              1\n",
       "C.A./SOTON 34068      1\n",
       "SOTON/O.Q. 3101310    1\n",
       "SOTON/OQ 3101316      1\n",
       "11769                 1\n",
       "364511                1\n",
       "SOTON/O.Q. 392087     1\n",
       "2674                  1\n",
       "350046                1\n",
       "345777                1\n",
       "STON/O 2. 3101289     1\n",
       "330958                1\n",
       "STON/O 2. 3101292     1\n",
       "350048                1\n",
       "PC 17475              1\n",
       "A/4. 39886            1\n",
       "2663                  1\n",
       "349228                1\n",
       "345783                1\n",
       "312992                1\n",
       "349206                1\n",
       "244361                1\n",
       "315096                1\n",
       "2693                  1\n",
       "211536                1\n",
       "SC 1748               1\n",
       "A/5 21172             1\n",
       "392091                1\n",
       "113794                1\n",
       "36967                 1\n",
       "28424                 1\n",
       "SOTON/O2 3101287      1\n",
       "A/5 3902              1\n",
       "2223                  1\n",
       "111320                1\n",
       "113028                1\n",
       "110564                1\n",
       "11755                 1\n",
       "330979                1\n",
       "PP 4348               1\n",
       "A/5 3594              1\n",
       "PC 17474              1\n",
       "28206                 1\n",
       "65306                 1\n",
       "A/5. 2151             1\n",
       "330932                1\n",
       "330909                1\n",
       "14311                 1\n",
       "349243                1\n",
       "27849                 1\n",
       "9234                  1\n",
       "SOTON/O.Q. 3101305    1\n",
       "347087                1\n",
       "229236                1\n",
       "SOTON/O.Q. 3101312    1\n",
       "W./C. 6609            1\n",
       "2623                  1\n",
       "349247                1\n",
       "349241                1\n",
       "113056                1\n",
       "SOTON/OQ 3101317      1\n",
       "365222                1\n",
       "27267                 1\n",
       "347081                1\n",
       "350036                1\n",
       "362316                1\n",
       "349204                1\n",
       "312991                1\n",
       "343275                1\n",
       "F.C.C. 13531          1\n",
       "A/5. 851              1\n",
       "367228                1\n",
       "374746                1\n",
       "C 4001                1\n",
       "113051                1\n",
       "65303                 1\n",
       "341826                1\n",
       "349209                1\n",
       "SOTON/O.Q. 3101311    1\n",
       "349219                1\n",
       "113773                1\n",
       "36963                 1\n",
       "349254                1\n",
       "SC/PARIS 2131         1\n",
       "11771                 1\n",
       "350417                1\n",
       "349239                1\n",
       "349224                1\n",
       "STON/O2. 3101271      1\n",
       "2647                  1\n",
       "3460                  1\n",
       "SC/PARIS 2133         1\n",
       "C.A. 5547             1\n",
       "11774                 1\n",
       "239855                1\n",
       "A/5 2466              1\n",
       "343276                1\n",
       "695                   1\n",
       "113783                1\n",
       "349207                1\n",
       "347085                1\n",
       "349249                1\n",
       "234818                1\n",
       "218629                1\n",
       "350029                1\n",
       "17466                 1\n",
       "350052                1\n",
       "365226                1\n",
       "349231                1\n",
       "248698                1\n",
       "349223                1\n",
       "345767                1\n",
       "31418                 1\n",
       "110813                1\n",
       "3101267               1\n",
       "STON/O 2. 3101269     1\n",
       "29011                 1\n",
       "236853                1\n",
       "226875                1\n",
       "382649                1\n",
       "315084                1\n",
       "350060                1\n",
       "2649                  1\n",
       "SOTON/OQ 392090       1\n",
       "11753                 1\n",
       "113503                1\n",
       "111427                1\n",
       "3101281               1\n",
       "349253                1\n",
       "2683                  1\n",
       "244278                1\n",
       "C.A. 29395            1\n",
       "19972                 1\n",
       "A/5. 13032            1\n",
       "27042                 1\n",
       "19952                 1\n",
       "349214                1\n",
       "113514                1\n",
       "2677                  1\n",
       "4134                  1\n",
       "SCO/W 1585            1\n",
       "2680                  1\n",
       "113055                1\n",
       "112052                1\n",
       "16988                 1\n",
       "345779                1\n",
       "367229                1\n",
       "17764                 1\n",
       "368703                1\n",
       "113501                1\n",
       "392092                1\n",
       "349210                1\n",
       "237671                1\n",
       "370375                1\n",
       "349910                1\n",
       "STON/O 2. 3101273     1\n",
       "347069                1\n",
       "345769                1\n",
       "2625                  1\n",
       "236171                1\n",
       "349208                1\n",
       "2620                  1\n",
       "234686                1\n",
       "330923                1\n",
       "237565                1\n",
       "C 7077                1\n",
       "350404                1\n",
       "4135                  1\n",
       "13509                 1\n",
       "2648                  1\n",
       "STON/O 2. 3101275     1\n",
       "315086                1\n",
       "324669                1\n",
       "345765                1\n",
       "35852                 1\n",
       "SC/PARIS 2149         1\n",
       "382651                1\n",
       "345763                1\n",
       "A/5 3540              1\n",
       "113786                1\n",
       "STON/O2. 3101282      1\n",
       "3101277               1\n",
       "4137                  1\n",
       "C.A. 34260            1\n",
       "4136                  1\n",
       "28425                 1\n",
       "113788                1\n",
       "2672                  1\n",
       "347061                1\n",
       "3101276               1\n",
       "2694                  1\n",
       "SOTON/O.Q. 392078     1\n",
       "244373                1\n",
       "W/C 14208             1\n",
       "2624                  1\n",
       "PC 17476              1\n",
       "370369                1\n",
       "2695                  1\n",
       "11752                 1\n",
       "STON/O 2. 3101274     1\n",
       "S.P. 3464             1\n",
       "S.O./P.P. 751         1\n",
       "STON/O 2. 3101285     1\n",
       "12233                 1\n",
       "C.A. 31026            1\n",
       "28228                 1\n",
       "335677                1\n",
       "223596                1\n",
       "26707                 1\n",
       "350047                1\n",
       "228414                1\n",
       "330959                1\n",
       "330877                1\n",
       "364498                1\n",
       "4579                  1\n",
       "371060                1\n",
       "112058                1\n",
       "PC 17318              1\n",
       "347060                1\n",
       "349252                1\n",
       "374887                1\n",
       "349257                1\n",
       "315098                1\n",
       "113059                1\n",
       "PC 17473              1\n",
       "2667                  1\n",
       "7546                  1\n",
       "2664                  1\n",
       "PC 17595              1\n",
       "SC/Paris 2163         1\n",
       "383121                1\n",
       "371362                1\n",
       "347067                1\n",
       "315089                1\n",
       "W./C. 14263           1\n",
       "312993                1\n",
       "29751                 1\n",
       "8475                  1\n",
       "F.C. 12750            1\n",
       "248747                1\n",
       "2926                  1\n",
       "31028                 1\n",
       "113509                1\n",
       "PC 17612              1\n",
       "345780                1\n",
       "C.A. 33111            1\n",
       "7598                  1\n",
       "315082                1\n",
       "347464                1\n",
       "349248                1\n",
       "2697                  1\n",
       "SC/AH Basle 541       1\n",
       "363294                1\n",
       "A/5. 3337             1\n",
       "28220                 1\n",
       "374910                1\n",
       "244270                1\n",
       "SC/PARIS 2167         1\n",
       "345770                1\n",
       "250653                1\n",
       "237789                1\n",
       "234604                1\n",
       "35851                 1\n",
       "13213                 1\n",
       "17465                 1\n",
       "350035                1\n",
       "347068                1\n",
       "F.C.C. 13528          1\n",
       "349912                1\n",
       "2700                  1\n",
       "345572                1\n",
       "29105                 1\n",
       "349242                1\n",
       "350050                1\n",
       "3101296               1\n",
       "237442                1\n",
       "315037                1\n",
       "28213                 1\n",
       "250652                1\n",
       "370376                1\n",
       "364499                1\n",
       "112053                1\n",
       "348124                1\n",
       "364851                1\n",
       "A/5 21171             1\n",
       "243880                1\n",
       "29108                 1\n",
       "29103                 1\n",
       "111240                1\n",
       "349205                1\n",
       "PC 17603              1\n",
       "7552                  1\n",
       "111428                1\n",
       "A/5 2817              1\n",
       "A/5 21173             1\n",
       "219533                1\n",
       "A/S 2816              1\n",
       "384461                1\n",
       "3101264               1\n",
       "233639                1\n",
       "PC 17483              1\n",
       "17464                 1\n",
       "PC 17756              1\n",
       "29104                 1\n",
       "347089                1\n",
       "370377                1\n",
       "S.O.P. 1166           1\n",
       "315151                1\n",
       "36866                 1\n",
       "364506                1\n",
       "SOTON/OQ 392076       1\n",
       "SOTON/OQ 392086       1\n",
       "349212                1\n",
       "36209                 1\n",
       "315097                1\n",
       "236852                1\n",
       "240929                1\n",
       "234360                1\n",
       "113792                1\n",
       "220367                1\n",
       "349222                1\n",
       "C.A. 29566            1\n",
       "363592                1\n",
       "349225                1\n",
       "349218                1\n",
       "349221                1\n",
       "370373                1\n",
       "28551                 1\n",
       "345774                1\n",
       "364850                1\n",
       "PC 17601              1\n",
       "347064                1\n",
       "386525                1\n",
       "6563                  1\n",
       "315088                1\n",
       "112277                1\n",
       "113787                1\n",
       "2628                  1\n",
       "113796                1\n",
       "347063                1\n",
       "A/5. 10482            1\n",
       "693                   1\n",
       "244310                1\n",
       "226593                1\n",
       "347076                1\n",
       "347062                1\n",
       "113510                1\n",
       "370370                1\n",
       "3101265               1\n",
       "373450                1\n",
       "248706                1\n",
       "342826                1\n",
       "113807                1\n",
       "334912                1\n",
       "14312                 1\n",
       "113804                1\n",
       "A4. 54510             1\n",
       "13049                 1\n",
       "19947                 1\n",
       "C 7075                1\n",
       "SOTON/O.Q. 3101307    1\n",
       "347073                1\n",
       "28134                 1\n",
       "21440                 1\n",
       "28665                 1\n",
       "A/5 21174             1\n",
       "11813                 1\n",
       "368323                1\n",
       "13568                 1\n",
       "PC 17597              1\n",
       "348123                1\n",
       "PC 17599              1\n",
       "36568                 1\n",
       "A/4. 34244            1\n",
       "349201                1\n",
       "7267                  1\n",
       "4138                  1\n",
       "PC 17585              1\n",
       "SC/PARIS 2146         1\n",
       "349240                1\n",
       "2689                  1\n",
       "A/4. 20589            1\n",
       "C 7076                1\n",
       "14313                 1\n",
       "PC 17590              1\n",
       "3411                  1\n",
       "14973                 1\n",
       "347468                1\n",
       "367655                1\n",
       "113043                1\n",
       "8471                  1\n",
       "PC 17482              1\n",
       "111369                1\n",
       "112050                1\n",
       "345364                1\n",
       "11765                 1\n",
       "STON/O 2. 3101294     1\n",
       "364512                1\n",
       "349213                1\n",
       "S.C./A.4. 23567       1\n",
       "CA. 2314              1\n",
       "330980                1\n",
       "231945                1\n",
       "36864                 1\n",
       "345778                1\n",
       "A/5 3536              1\n",
       "PC 17610              1\n",
       "2629                  1\n",
       "323592                1\n",
       "345781                1\n",
       "SO/C 14885            1\n",
       "350034                1\n",
       "A/4 45380             1\n",
       "350406                1\n",
       "113784                1\n",
       "364500                1\n",
       "C.A. 17248            1\n",
       "PC 17605              1\n",
       "239854                1\n",
       "349236                1\n",
       "394140                1\n",
       "36865                 1\n",
       "7545                  1\n",
       "349246                1\n",
       "2650                  1\n",
       "347743                1\n",
       "330935                1\n",
       "343120                1\n",
       "13214                 1\n",
       "W./C. 14258           1\n",
       "SOTON/OQ 392082       1\n",
       "112059                1\n",
       "248740                1\n",
       "65304                 1\n",
       "C.A. 18723            1\n",
       "315090                1\n",
       "SC/AH 3085            1\n",
       "SOTON/OQ 392089       1\n",
       "PC 17754              1\n",
       "2687                  1\n",
       "STON/O 2. 3101280     1\n",
       "C.A. 6212             1\n",
       "S.W./PP 752           1\n",
       "2662                  1\n",
       "3101298               1\n",
       "PC 17592              1\n",
       "250643                1\n",
       "250646                1\n",
       "370371                1\n",
       "33638                 1\n",
       "PC 17759              1\n",
       "349233                1\n",
       "315094                1\n",
       "2631                  1\n",
       "PC 17596              1\n",
       "13567                 1\n",
       "315093                1\n",
       "A.5. 11206            1\n",
       "C.A. 29178            1\n",
       "347074                1\n",
       "111426                1\n",
       "349251                1\n",
       "349245                1\n",
       "STON/O 2. 3101288     1\n",
       "SOTON/O.Q. 3101306    1\n",
       "Fa 265302             1\n",
       "349215                1\n",
       "349244                1\n",
       "343095                1\n",
       "367231                1\n",
       "2690                  1\n",
       "233866                1\n",
       "34218                 1\n",
       "113767                1\n",
       "A.5. 18509            1\n",
       "113050                1\n",
       "7553                  1\n",
       "28664                 1\n",
       "2641                  1\n",
       "315153                1\n",
       "350026                1\n",
       "347078                1\n",
       "C 17369               1\n",
       "SOTON/O2 3101272      1\n",
       "370372                1\n",
       "C.A. 24579            1\n",
       "364848                1\n",
       "STON/O 2. 3101286     1\n",
       "350025                1\n",
       "347466                1\n",
       "250648                1\n",
       "STON/O2. 3101290      1\n",
       "336439                1\n",
       "349256                1\n",
       "2003                  1\n",
       "7540                  1\n",
       "323951                1\n",
       "12460                 1\n",
       "112379                1\n",
       "347470                1\n",
       "W.E.P. 5734           1\n",
       "2671                  1\n",
       "3474                  1\n",
       "335097                1\n",
       "Name: Ticket, dtype: int64"
      ]
     },
     "execution_count": 565,
     "metadata": {},
     "output_type": "execute_result"
    }
   ],
   "source": [
    "df['Ticket'].value_counts()"
   ]
  },
  {
   "cell_type": "code",
   "execution_count": 566,
   "metadata": {},
   "outputs": [],
   "source": [
    "#ohe=OneHotEncoder()\n",
    "#df1=pd.DataFrame(ohe.fit_transform(df[['Ticket']]).toarray())"
   ]
  },
  {
   "cell_type": "code",
   "execution_count": 567,
   "metadata": {},
   "outputs": [],
   "source": [
    "#df=df.join(df1)"
   ]
  },
  {
   "cell_type": "code",
   "execution_count": 568,
   "metadata": {},
   "outputs": [],
   "source": [
    "#as we can see the feature column Ticket is not looks useful so we are dropping the column\n",
    "df=df.drop(columns='Ticket',axis=1)"
   ]
  },
  {
   "cell_type": "code",
   "execution_count": 569,
   "metadata": {},
   "outputs": [
    {
     "data": {
      "text/plain": [
       "male      577\n",
       "female    314\n",
       "Name: Sex, dtype: int64"
      ]
     },
     "execution_count": 569,
     "metadata": {},
     "output_type": "execute_result"
    }
   ],
   "source": [
    "df['Sex'].value_counts()"
   ]
  },
  {
   "cell_type": "code",
   "execution_count": 570,
   "metadata": {},
   "outputs": [],
   "source": [
    "#using the label encoder to relpace the sex catagorical values.\n",
    "lb=LabelEncoder()\n",
    "df_s=lb.fit_transform(df['Sex'])"
   ]
  },
  {
   "cell_type": "code",
   "execution_count": 571,
   "metadata": {},
   "outputs": [],
   "source": [
    "#replacing the transfromed value to the feature sex column\n",
    "df['Sex']=df_s"
   ]
  },
  {
   "cell_type": "code",
   "execution_count": 572,
   "metadata": {},
   "outputs": [
    {
     "data": {
      "text/plain": [
       "1    577\n",
       "0    314\n",
       "Name: Sex, dtype: int64"
      ]
     },
     "execution_count": 572,
     "metadata": {},
     "output_type": "execute_result"
    }
   ],
   "source": [
    "#checking the values after replace\n",
    "df['Sex'].value_counts()"
   ]
  },
  {
   "cell_type": "code",
   "execution_count": 573,
   "metadata": {},
   "outputs": [
    {
     "data": {
      "text/plain": [
       "S    646\n",
       "C    168\n",
       "Q     77\n",
       "Name: Embarked, dtype: int64"
      ]
     },
     "execution_count": 573,
     "metadata": {},
     "output_type": "execute_result"
    }
   ],
   "source": [
    "#'Embarked'\n",
    "df['Embarked'].value_counts()"
   ]
  },
  {
   "cell_type": "code",
   "execution_count": 574,
   "metadata": {},
   "outputs": [],
   "source": [
    "#using get dummies method to perform the encoding on Embarked feature column\n",
    "df1=pd.get_dummies(df[['Embarked']],drop_first=False)"
   ]
  },
  {
   "cell_type": "code",
   "execution_count": 575,
   "metadata": {},
   "outputs": [],
   "source": [
    "#joining the column with the original dataframe\n",
    "df=df.join(df1)"
   ]
  },
  {
   "cell_type": "code",
   "execution_count": 576,
   "metadata": {},
   "outputs": [
    {
     "data": {
      "text/html": [
       "<div>\n",
       "<style scoped>\n",
       "    .dataframe tbody tr th:only-of-type {\n",
       "        vertical-align: middle;\n",
       "    }\n",
       "\n",
       "    .dataframe tbody tr th {\n",
       "        vertical-align: top;\n",
       "    }\n",
       "\n",
       "    .dataframe thead th {\n",
       "        text-align: right;\n",
       "    }\n",
       "</style>\n",
       "<table border=\"1\" class=\"dataframe\">\n",
       "  <thead>\n",
       "    <tr style=\"text-align: right;\">\n",
       "      <th></th>\n",
       "      <th>PassengerId</th>\n",
       "      <th>Survived</th>\n",
       "      <th>Pclass</th>\n",
       "      <th>Sex</th>\n",
       "      <th>Age</th>\n",
       "      <th>SibSp</th>\n",
       "      <th>Parch</th>\n",
       "      <th>Fare</th>\n",
       "      <th>Embarked_C</th>\n",
       "      <th>Embarked_Q</th>\n",
       "      <th>Embarked_S</th>\n",
       "    </tr>\n",
       "  </thead>\n",
       "  <tbody>\n",
       "    <tr>\n",
       "      <th>0</th>\n",
       "      <td>1</td>\n",
       "      <td>0</td>\n",
       "      <td>3</td>\n",
       "      <td>1</td>\n",
       "      <td>22.000000</td>\n",
       "      <td>1</td>\n",
       "      <td>0</td>\n",
       "      <td>7.2500</td>\n",
       "      <td>0</td>\n",
       "      <td>0</td>\n",
       "      <td>1</td>\n",
       "    </tr>\n",
       "    <tr>\n",
       "      <th>2</th>\n",
       "      <td>3</td>\n",
       "      <td>1</td>\n",
       "      <td>3</td>\n",
       "      <td>0</td>\n",
       "      <td>26.000000</td>\n",
       "      <td>0</td>\n",
       "      <td>0</td>\n",
       "      <td>7.9250</td>\n",
       "      <td>0</td>\n",
       "      <td>0</td>\n",
       "      <td>1</td>\n",
       "    </tr>\n",
       "    <tr>\n",
       "      <th>3</th>\n",
       "      <td>4</td>\n",
       "      <td>1</td>\n",
       "      <td>1</td>\n",
       "      <td>0</td>\n",
       "      <td>35.000000</td>\n",
       "      <td>1</td>\n",
       "      <td>0</td>\n",
       "      <td>53.1000</td>\n",
       "      <td>0</td>\n",
       "      <td>0</td>\n",
       "      <td>1</td>\n",
       "    </tr>\n",
       "    <tr>\n",
       "      <th>4</th>\n",
       "      <td>5</td>\n",
       "      <td>0</td>\n",
       "      <td>3</td>\n",
       "      <td>1</td>\n",
       "      <td>35.000000</td>\n",
       "      <td>0</td>\n",
       "      <td>0</td>\n",
       "      <td>8.0500</td>\n",
       "      <td>0</td>\n",
       "      <td>0</td>\n",
       "      <td>1</td>\n",
       "    </tr>\n",
       "    <tr>\n",
       "      <th>5</th>\n",
       "      <td>6</td>\n",
       "      <td>0</td>\n",
       "      <td>3</td>\n",
       "      <td>1</td>\n",
       "      <td>29.699118</td>\n",
       "      <td>0</td>\n",
       "      <td>0</td>\n",
       "      <td>8.4583</td>\n",
       "      <td>0</td>\n",
       "      <td>1</td>\n",
       "      <td>0</td>\n",
       "    </tr>\n",
       "  </tbody>\n",
       "</table>\n",
       "</div>"
      ],
      "text/plain": [
       "   PassengerId  Survived  Pclass  Sex        Age  SibSp  Parch     Fare  \\\n",
       "0            1         0       3    1  22.000000      1      0   7.2500   \n",
       "2            3         1       3    0  26.000000      0      0   7.9250   \n",
       "3            4         1       1    0  35.000000      1      0  53.1000   \n",
       "4            5         0       3    1  35.000000      0      0   8.0500   \n",
       "5            6         0       3    1  29.699118      0      0   8.4583   \n",
       "\n",
       "   Embarked_C  Embarked_Q  Embarked_S  \n",
       "0           0           0           1  \n",
       "2           0           0           1  \n",
       "3           0           0           1  \n",
       "4           0           0           1  \n",
       "5           0           1           0  "
      ]
     },
     "execution_count": 576,
     "metadata": {},
     "output_type": "execute_result"
    }
   ],
   "source": [
    "#deleting the Embarked feature after encoding the column\n",
    "df=df.drop(columns='Embarked',index=1)\n",
    "df.head()"
   ]
  },
  {
   "cell_type": "code",
   "execution_count": 577,
   "metadata": {},
   "outputs": [
    {
     "data": {
      "text/html": [
       "<div>\n",
       "<style scoped>\n",
       "    .dataframe tbody tr th:only-of-type {\n",
       "        vertical-align: middle;\n",
       "    }\n",
       "\n",
       "    .dataframe tbody tr th {\n",
       "        vertical-align: top;\n",
       "    }\n",
       "\n",
       "    .dataframe thead th {\n",
       "        text-align: right;\n",
       "    }\n",
       "</style>\n",
       "<table border=\"1\" class=\"dataframe\">\n",
       "  <thead>\n",
       "    <tr style=\"text-align: right;\">\n",
       "      <th></th>\n",
       "      <th>PassengerId</th>\n",
       "      <th>Survived</th>\n",
       "      <th>Pclass</th>\n",
       "      <th>Sex</th>\n",
       "      <th>Age</th>\n",
       "      <th>SibSp</th>\n",
       "      <th>Parch</th>\n",
       "      <th>Fare</th>\n",
       "    </tr>\n",
       "  </thead>\n",
       "  <tbody>\n",
       "    <tr>\n",
       "      <th>count</th>\n",
       "      <td>890.000000</td>\n",
       "      <td>890.000000</td>\n",
       "      <td>890.000000</td>\n",
       "      <td>890.000000</td>\n",
       "      <td>890.000000</td>\n",
       "      <td>890.000000</td>\n",
       "      <td>890.000000</td>\n",
       "      <td>890.000000</td>\n",
       "    </tr>\n",
       "    <tr>\n",
       "      <th>mean</th>\n",
       "      <td>446.498876</td>\n",
       "      <td>0.383146</td>\n",
       "      <td>2.310112</td>\n",
       "      <td>0.648315</td>\n",
       "      <td>29.689791</td>\n",
       "      <td>0.522472</td>\n",
       "      <td>0.382022</td>\n",
       "      <td>32.160299</td>\n",
       "    </tr>\n",
       "    <tr>\n",
       "      <th>std</th>\n",
       "      <td>257.067114</td>\n",
       "      <td>0.486427</td>\n",
       "      <td>0.835388</td>\n",
       "      <td>0.477765</td>\n",
       "      <td>13.006343</td>\n",
       "      <td>1.103247</td>\n",
       "      <td>0.806409</td>\n",
       "      <td>49.704073</td>\n",
       "    </tr>\n",
       "    <tr>\n",
       "      <th>min</th>\n",
       "      <td>1.000000</td>\n",
       "      <td>0.000000</td>\n",
       "      <td>1.000000</td>\n",
       "      <td>0.000000</td>\n",
       "      <td>0.420000</td>\n",
       "      <td>0.000000</td>\n",
       "      <td>0.000000</td>\n",
       "      <td>0.000000</td>\n",
       "    </tr>\n",
       "    <tr>\n",
       "      <th>25%</th>\n",
       "      <td>224.250000</td>\n",
       "      <td>0.000000</td>\n",
       "      <td>2.000000</td>\n",
       "      <td>0.000000</td>\n",
       "      <td>22.000000</td>\n",
       "      <td>0.000000</td>\n",
       "      <td>0.000000</td>\n",
       "      <td>7.903100</td>\n",
       "    </tr>\n",
       "    <tr>\n",
       "      <th>50%</th>\n",
       "      <td>446.500000</td>\n",
       "      <td>0.000000</td>\n",
       "      <td>3.000000</td>\n",
       "      <td>1.000000</td>\n",
       "      <td>29.699118</td>\n",
       "      <td>0.000000</td>\n",
       "      <td>0.000000</td>\n",
       "      <td>14.454200</td>\n",
       "    </tr>\n",
       "    <tr>\n",
       "      <th>75%</th>\n",
       "      <td>668.750000</td>\n",
       "      <td>1.000000</td>\n",
       "      <td>3.000000</td>\n",
       "      <td>1.000000</td>\n",
       "      <td>35.000000</td>\n",
       "      <td>1.000000</td>\n",
       "      <td>0.000000</td>\n",
       "      <td>31.000000</td>\n",
       "    </tr>\n",
       "    <tr>\n",
       "      <th>max</th>\n",
       "      <td>891.000000</td>\n",
       "      <td>1.000000</td>\n",
       "      <td>3.000000</td>\n",
       "      <td>1.000000</td>\n",
       "      <td>80.000000</td>\n",
       "      <td>8.000000</td>\n",
       "      <td>6.000000</td>\n",
       "      <td>512.329200</td>\n",
       "    </tr>\n",
       "  </tbody>\n",
       "</table>\n",
       "</div>"
      ],
      "text/plain": [
       "       PassengerId    Survived      Pclass         Sex         Age  \\\n",
       "count   890.000000  890.000000  890.000000  890.000000  890.000000   \n",
       "mean    446.498876    0.383146    2.310112    0.648315   29.689791   \n",
       "std     257.067114    0.486427    0.835388    0.477765   13.006343   \n",
       "min       1.000000    0.000000    1.000000    0.000000    0.420000   \n",
       "25%     224.250000    0.000000    2.000000    0.000000   22.000000   \n",
       "50%     446.500000    0.000000    3.000000    1.000000   29.699118   \n",
       "75%     668.750000    1.000000    3.000000    1.000000   35.000000   \n",
       "max     891.000000    1.000000    3.000000    1.000000   80.000000   \n",
       "\n",
       "            SibSp       Parch        Fare  \n",
       "count  890.000000  890.000000  890.000000  \n",
       "mean     0.522472    0.382022   32.160299  \n",
       "std      1.103247    0.806409   49.704073  \n",
       "min      0.000000    0.000000    0.000000  \n",
       "25%      0.000000    0.000000    7.903100  \n",
       "50%      0.000000    0.000000   14.454200  \n",
       "75%      1.000000    0.000000   31.000000  \n",
       "max      8.000000    6.000000  512.329200  "
      ]
     },
     "execution_count": 577,
     "metadata": {},
     "output_type": "execute_result"
    }
   ],
   "source": [
    "#describe the dataframe\n",
    "df.iloc[:,:8].describe()"
   ]
  },
  {
   "cell_type": "code",
   "execution_count": 578,
   "metadata": {},
   "outputs": [],
   "source": [
    "#here we can see that standred daviation is looks not normal.\n",
    "#the mean and median(50%) looks normal means less chance of outliers."
   ]
  },
  {
   "cell_type": "code",
   "execution_count": 579,
   "metadata": {},
   "outputs": [
    {
     "data": {
      "image/png": "[encoded data removed]",
      "text/plain": [
       "<Figure size 1440x1080 with 6 Axes>"
      ]
     },
     "metadata": {},
     "output_type": "display_data"
    }
   ],
   "source": [
    "#ploting the distribition plot to check the data distribution\n",
    "plt.figure(figsize=(20,15),facecolor='white')\n",
    "pltnum=1\n",
    "\n",
    "for column in df.iloc[:,[0,2,4,5,6,7]]:\n",
    "    if pltnum <= 30:\n",
    "        plt.subplot(4,4,pltnum)\n",
    "        sns.distplot(df[column])\n",
    "        plt.xlabel(column,fontsize=10)\n",
    "        \n",
    "    pltnum +=1\n",
    "plt.show()    "
   ]
  },
  {
   "cell_type": "code",
   "execution_count": 580,
   "metadata": {},
   "outputs": [],
   "source": [
    "#we can see that there is outliers avaliable at the features parch,fare,age and sibsp"
   ]
  },
  {
   "cell_type": "code",
   "execution_count": 581,
   "metadata": {},
   "outputs": [
    {
     "data": {
      "image/png": "[encoded data removed]",
      "text/plain": [
       "<Figure size 1296x864 with 6 Axes>"
      ]
     },
     "metadata": {},
     "output_type": "display_data"
    }
   ],
   "source": [
    "#Checking the Ouliars using boxplot:\n",
    "plt.figure(figsize=(18,12),facecolor='white')\n",
    "pltnum=1\n",
    "\n",
    "for columns in df.iloc[:,[0,2,4,5,6,7]]:\n",
    "    if pltnum <= 16:\n",
    "        plt.subplot(4,4,pltnum)\n",
    "        sns.boxplot(df[columns],orient='v')\n",
    "        plt.xlabel(columns,fontsize=8)\n",
    "        \n",
    "    pltnum +=1\n",
    "plt.tight_layout()    "
   ]
  },
  {
   "cell_type": "code",
   "execution_count": 582,
   "metadata": {},
   "outputs": [],
   "source": [
    "#using the IQR method for the quantile remove.\n",
    "q1=df.iloc[:,[4,5,6,7]].quantile(0.25)\n",
    "q3=df.iloc[:,[4,5,6,7]].quantile(0.75)\n",
    "\n",
    "iqr=q3-q1"
   ]
  },
  {
   "cell_type": "code",
   "execution_count": 583,
   "metadata": {},
   "outputs": [],
   "source": [
    "for column in df.iloc[:,[4,5,6,7]]:\n",
    "    indexq=np.where(df[column] > (q3[column] + (1.5 * iqr[column])))\n",
    "    \n",
    "for column in df.iloc[:,[4]]:\n",
    "    indexq=np.where(df[column] < (q3[column] - (1.5 * iqr[column])))    "
   ]
  },
  {
   "cell_type": "code",
   "execution_count": 584,
   "metadata": {},
   "outputs": [
    {
     "data": {
      "text/plain": [
       "(array([  6,   8,   9,  13,  15,  21,  23,  38,  42,  49,  57,  58,  62,\n",
       "         77, 110, 118, 124, 146, 163, 164, 170, 171, 181, 182, 183, 192,\n",
       "        204, 232, 236, 260, 277, 296, 304, 339, 347, 351, 373, 380, 385,\n",
       "        406, 418, 434, 444, 445, 447, 468, 478, 479, 488, 529, 534, 540,\n",
       "        541, 548, 617, 633, 641, 643, 682, 685, 688, 690, 719, 730, 749,\n",
       "        750, 754, 776, 779, 786, 787, 801, 802, 812, 818, 823, 826, 829,\n",
       "        830, 849, 851, 868, 874], dtype=int64),)"
      ]
     },
     "execution_count": 584,
     "metadata": {},
     "output_type": "execute_result"
    }
   ],
   "source": [
    "indexq"
   ]
  },
  {
   "cell_type": "code",
   "execution_count": 585,
   "metadata": {},
   "outputs": [],
   "source": [
    "df=df.drop(df.index[indexq])"
   ]
  },
  {
   "cell_type": "code",
   "execution_count": 586,
   "metadata": {},
   "outputs": [
    {
     "data": {
      "text/plain": [
       "(807, 11)"
      ]
     },
     "execution_count": 586,
     "metadata": {},
     "output_type": "execute_result"
    }
   ],
   "source": [
    "df.shape"
   ]
  },
  {
   "cell_type": "code",
   "execution_count": 587,
   "metadata": {},
   "outputs": [
    {
     "name": "stdout",
     "output_type": "stream",
     "text": [
      "9.427609427609427\n"
     ]
    }
   ],
   "source": [
    "#Data Loss in percentage\n",
    "loss_percentage=(891-807)/891*100\n",
    "print(loss_percentage)"
   ]
  },
  {
   "cell_type": "code",
   "execution_count": null,
   "metadata": {},
   "outputs": [],
   "source": [
    "#i have checked all the 3 methods i.e IQR,quantile and z-score.\n",
    "#Here IQR is best to remove outlier and proide the best accuracy.so i am using the IQR method."
   ]
  },
  {
   "cell_type": "code",
   "execution_count": 588,
   "metadata": {},
   "outputs": [
    {
     "data": {
      "image/png": "[encoded data removed]",
      "text/plain": [
       "<Figure size 1296x864 with 6 Axes>"
      ]
     },
     "metadata": {},
     "output_type": "display_data"
    }
   ],
   "source": [
    "#Checking the Ouliars using boxplot:\n",
    "plt.figure(figsize=(18,12),facecolor='white')\n",
    "pltnum=1\n",
    "\n",
    "for columns in df.iloc[:,[0,2,4,5,6,7]]:\n",
    "    if pltnum <= 16:\n",
    "        plt.subplot(4,4,pltnum)\n",
    "        sns.boxplot(df[columns],orient='v')\n",
    "        plt.xlabel(columns,fontsize=8)\n",
    "        \n",
    "    pltnum +=1\n",
    "plt.tight_layout()    "
   ]
  },
  {
   "cell_type": "code",
   "execution_count": 589,
   "metadata": {},
   "outputs": [
    {
     "data": {
      "text/plain": [
       "Survived       1.000000\n",
       "Fare           0.277552\n",
       "Parch          0.057427\n",
       "Age            0.017033\n",
       "SibSp          0.010461\n",
       "PassengerId   -0.013414\n",
       "Pclass        -0.356097\n",
       "Name: Survived, dtype: float64"
      ]
     },
     "execution_count": 589,
     "metadata": {},
     "output_type": "execute_result"
    }
   ],
   "source": [
    "#checking the skewness and correlation between the featues and labels\n",
    "corr=df.iloc[:,[0,1,2,4,5,6,7]].abs().corr()\n",
    "corr['Survived'].sort_values(ascending=False)"
   ]
  },
  {
   "cell_type": "code",
   "execution_count": null,
   "metadata": {},
   "outputs": [],
   "source": [
    "#as we can see there is no skewness in the data as all the columns are inbetween -0.5 to +0.5 range.\n",
    "#so there is no need to remove the skewness from the dataframe."
   ]
  },
  {
   "cell_type": "code",
   "execution_count": 590,
   "metadata": {},
   "outputs": [
    {
     "data": {
      "image/png": "[encoded data removed]",
      "text/plain": [
       "<Figure size 1584x1152 with 2 Axes>"
      ]
     },
     "metadata": {
      "needs_background": "light"
     },
     "output_type": "display_data"
    }
   ],
   "source": [
    "#using the heatmap to check the correlation between features.\n",
    "corr_matrix=df.iloc[:,[0,2,4,5,6,7]].abs().corr()\n",
    "\n",
    "plt.figure(figsize=(22,16))\n",
    "\n",
    "sns.heatmap(corr_matrix,vmin=-1,vmax=1,center=True,annot=True, fmt='.2g',linewidths=0.1)\n",
    "plt.show()\n",
    "\n",
    "#as we can see in heatmap there is no correlation between the features and labels"
   ]
  },
  {
   "cell_type": "code",
   "execution_count": null,
   "metadata": {},
   "outputs": [],
   "source": [
    "#in heatmap we can see that there is no multicollinarity issue in the feature.\n",
    "#still we can cross check the same using vif"
   ]
  },
  {
   "cell_type": "code",
   "execution_count": 591,
   "metadata": {},
   "outputs": [],
   "source": [
    "#seprarting the x and y\n",
    "x=df.drop(columns='Survived',axis=1)\n",
    "y=df['Survived']"
   ]
  },
  {
   "cell_type": "code",
   "execution_count": 592,
   "metadata": {},
   "outputs": [
    {
     "data": {
      "text/plain": [
       "(807, 10)"
      ]
     },
     "execution_count": 592,
     "metadata": {},
     "output_type": "execute_result"
    }
   ],
   "source": [
    "x.shape"
   ]
  },
  {
   "cell_type": "code",
   "execution_count": 593,
   "metadata": {},
   "outputs": [
    {
     "data": {
      "image/png": "[encoded data removed]",
      "text/plain": [
       "<Figure size 1440x1440 with 6 Axes>"
      ]
     },
     "metadata": {},
     "output_type": "display_data"
    }
   ],
   "source": [
    "#plotting the strips plot to check for data distribution after managing the outliers and skewness:\n",
    "plt.figure(figsize=(20,20),facecolor='white')\n",
    "pltnum=1\n",
    "\n",
    "for column in x.iloc[:,[0,1,3,4,5,6]]:\n",
    "    if pltnum <= 9:\n",
    "        plt.subplot(3,3,pltnum)\n",
    "        sns.stripplot(y,x[column])\n",
    "      #  plt.xlabel(column,fontsize=15)\n",
    "    pltnum+=1\n",
    "plt.tight_layout()"
   ]
  },
  {
   "cell_type": "code",
   "execution_count": 594,
   "metadata": {},
   "outputs": [],
   "source": [
    "#as we can see using strip plot the relation between features and target looks normal,"
   ]
  },
  {
   "cell_type": "code",
   "execution_count": 595,
   "metadata": {},
   "outputs": [],
   "source": [
    "#x_value=x[['PassengerId','Pclass','Age','SibSp','Parch','Fare']]\n",
    "#x_value.head()"
   ]
  },
  {
   "cell_type": "code",
   "execution_count": 596,
   "metadata": {},
   "outputs": [],
   "source": [
    "#usind the scalar to scale the features\n",
    "#col_names=['PassengerId','Pclass','Age','SibSp','Parch','Fare']\n",
    "#features=x[col_names]"
   ]
  },
  {
   "cell_type": "code",
   "execution_count": 597,
   "metadata": {},
   "outputs": [],
   "source": [
    "scalar=StandardScaler()\n",
    "x_data=scalar.fit_transform(x)"
   ]
  },
  {
   "cell_type": "code",
   "execution_count": 598,
   "metadata": {},
   "outputs": [
    {
     "data": {
      "text/plain": [
       "(807, 10)"
      ]
     },
     "execution_count": 598,
     "metadata": {},
     "output_type": "execute_result"
    }
   ],
   "source": [
    "x.shape"
   ]
  },
  {
   "cell_type": "code",
   "execution_count": 599,
   "metadata": {},
   "outputs": [],
   "source": [
    "#using vif to check the multicolliniarity issue,\n",
    "vif=pd.DataFrame()\n",
    "vif['vif']=[variance_inflation_factor(x_data,i) for i in range(x_data.shape[1])]\n",
    "vif['features']=x.columns"
   ]
  },
  {
   "cell_type": "code",
   "execution_count": 600,
   "metadata": {},
   "outputs": [
    {
     "data": {
      "text/html": [
       "<div>\n",
       "<style scoped>\n",
       "    .dataframe tbody tr th:only-of-type {\n",
       "        vertical-align: middle;\n",
       "    }\n",
       "\n",
       "    .dataframe tbody tr th {\n",
       "        vertical-align: top;\n",
       "    }\n",
       "\n",
       "    .dataframe thead th {\n",
       "        text-align: right;\n",
       "    }\n",
       "</style>\n",
       "<table border=\"1\" class=\"dataframe\">\n",
       "  <thead>\n",
       "    <tr style=\"text-align: right;\">\n",
       "      <th></th>\n",
       "      <th>vif</th>\n",
       "      <th>features</th>\n",
       "    </tr>\n",
       "  </thead>\n",
       "  <tbody>\n",
       "    <tr>\n",
       "      <th>0</th>\n",
       "      <td>1.006551</td>\n",
       "      <td>PassengerId</td>\n",
       "    </tr>\n",
       "    <tr>\n",
       "      <th>1</th>\n",
       "      <td>1.783783</td>\n",
       "      <td>Pclass</td>\n",
       "    </tr>\n",
       "    <tr>\n",
       "      <th>2</th>\n",
       "      <td>1.156376</td>\n",
       "      <td>Sex</td>\n",
       "    </tr>\n",
       "    <tr>\n",
       "      <th>3</th>\n",
       "      <td>1.159344</td>\n",
       "      <td>Age</td>\n",
       "    </tr>\n",
       "    <tr>\n",
       "      <th>4</th>\n",
       "      <td>1.181991</td>\n",
       "      <td>SibSp</td>\n",
       "    </tr>\n",
       "    <tr>\n",
       "      <th>5</th>\n",
       "      <td>1.254249</td>\n",
       "      <td>Parch</td>\n",
       "    </tr>\n",
       "    <tr>\n",
       "      <th>6</th>\n",
       "      <td>1.653228</td>\n",
       "      <td>Fare</td>\n",
       "    </tr>\n",
       "    <tr>\n",
       "      <th>7</th>\n",
       "      <td>inf</td>\n",
       "      <td>Embarked_C</td>\n",
       "    </tr>\n",
       "    <tr>\n",
       "      <th>8</th>\n",
       "      <td>inf</td>\n",
       "      <td>Embarked_Q</td>\n",
       "    </tr>\n",
       "    <tr>\n",
       "      <th>9</th>\n",
       "      <td>inf</td>\n",
       "      <td>Embarked_S</td>\n",
       "    </tr>\n",
       "  </tbody>\n",
       "</table>\n",
       "</div>"
      ],
      "text/plain": [
       "        vif     features\n",
       "0  1.006551  PassengerId\n",
       "1  1.783783       Pclass\n",
       "2  1.156376          Sex\n",
       "3  1.159344          Age\n",
       "4  1.181991        SibSp\n",
       "5  1.254249        Parch\n",
       "6  1.653228         Fare\n",
       "7       inf   Embarked_C\n",
       "8       inf   Embarked_Q\n",
       "9       inf   Embarked_S"
      ]
     },
     "execution_count": 600,
     "metadata": {},
     "output_type": "execute_result"
    }
   ],
   "source": [
    "vif.iloc[:,:7]"
   ]
  },
  {
   "cell_type": "code",
   "execution_count": 601,
   "metadata": {},
   "outputs": [
    {
     "data": {
      "text/plain": [
       "(807, 10)"
      ]
     },
     "execution_count": 601,
     "metadata": {},
     "output_type": "execute_result"
    }
   ],
   "source": [
    "x_data.shape\n",
    "#shape of the dataframe"
   ]
  },
  {
   "cell_type": "code",
   "execution_count": 529,
   "metadata": {},
   "outputs": [],
   "source": [
    "#as we can see there is no multicolliniarity issue between features as the score of all the features is less than 5."
   ]
  },
  {
   "cell_type": "code",
   "execution_count": 647,
   "metadata": {},
   "outputs": [
    {
     "data": {
      "text/plain": [
       "0    515\n",
       "1    292\n",
       "Name: Survived, dtype: int64"
      ]
     },
     "execution_count": 647,
     "metadata": {},
     "output_type": "execute_result"
    }
   ],
   "source": [
    "df['Survived'].value_counts()"
   ]
  },
  {
   "cell_type": "code",
   "execution_count": null,
   "metadata": {},
   "outputs": [],
   "source": [
    "#here the target outputs looks normal,there is not compasalary to perform the upsampling."
   ]
  },
  {
   "cell_type": "code",
   "execution_count": 626,
   "metadata": {},
   "outputs": [
    {
     "name": "stdout",
     "output_type": "stream",
     "text": [
      "Best Accuracy is : 88.61%\n",
      "The Best Random State is : 155\n"
     ]
    }
   ],
   "source": [
    "#Finding best Random State:\n",
    "maxAcc=0\n",
    "maxRs=0\n",
    "\n",
    "for i in range(1,200):\n",
    "    x_train,x_test,y_train,y_test=train_test_split(x_data,y,test_size=0.25,random_state=i)\n",
    "    rfc=RandomForestClassifier()\n",
    "    rfc.fit(x_train,y_train)\n",
    "    y_pred=rfc.predict(x_test)\n",
    "    acc_s=accuracy_score(y_test,y_pred)\n",
    "    if acc_s > maxAcc:\n",
    "        maxAcc=acc_s\n",
    "        maxRs=i\n",
    "        \n",
    "print(f\"Best Accuracy is : {maxAcc* 100:.2f}%\")\n",
    "print(\"The Best Random State is :\",maxRs)"
   ]
  },
  {
   "cell_type": "code",
   "execution_count": 627,
   "metadata": {},
   "outputs": [],
   "source": [
    "#seprating the train and test datasets with the best find random state\n",
    "x_train,x_test,y_train,y_test=train_test_split(x_data,y,test_size=0.25,random_state=155)"
   ]
  },
  {
   "cell_type": "code",
   "execution_count": 628,
   "metadata": {},
   "outputs": [
    {
     "name": "stdout",
     "output_type": "stream",
     "text": [
      "\n",
      "==========Outputs of DT===========\n",
      "\n",
      "==========Accuracy Score===========\n",
      "Accuracy Score is : 80.69%\n",
      "\n",
      "======Classification Report=============\n",
      "              precision    recall  f1-score   support\n",
      "\n",
      "           0       0.86      0.85      0.86       135\n",
      "           1       0.71      0.72      0.71        67\n",
      "\n",
      "    accuracy                           0.81       202\n",
      "   macro avg       0.78      0.78      0.78       202\n",
      "weighted avg       0.81      0.81      0.81       202\n",
      " \n",
      "\n",
      "=========Confusion Matrix============\n",
      "[[115  20]\n",
      " [ 19  48]]\n"
     ]
    }
   ],
   "source": [
    "#Using the DecisionTreeClassifier algorithm to check the accuray score,DecisionTreeClassifier and Confusion Matrix:\n",
    "dt=DecisionTreeClassifier()\n",
    "dt.fit(x_train,y_train)\n",
    "y_preddt=dt.predict(x_test)\n",
    "\n",
    "print('\\n==========Outputs of DT===========')\n",
    "\n",
    "print('\\n==========Accuracy Score===========')\n",
    "print(f\"Accuracy Score is : {accuracy_score(y_test,y_preddt)* 100:.2f}%\\n\")\n",
    "\n",
    "print('======Classification Report=============')\n",
    "print(classification_report(y_test,y_preddt,digits=2),'\\n')\n",
    "\n",
    "print('=========Confusion Matrix============')\n",
    "print(confusion_matrix(y_test,y_preddt))"
   ]
  },
  {
   "cell_type": "code",
   "execution_count": 629,
   "metadata": {},
   "outputs": [
    {
     "name": "stdout",
     "output_type": "stream",
     "text": [
      "\n",
      "==========Outputs of ADA Boost===========\n",
      "\n",
      "==========Accuracy Score===========\n",
      "Accuracy Score is : 84.65%\n",
      "\n",
      "======Classification Report=============\n",
      "              precision    recall  f1-score   support\n",
      "\n",
      "           0       0.88      0.89      0.89       135\n",
      "           1       0.77      0.76      0.77        67\n",
      "\n",
      "    accuracy                           0.85       202\n",
      "   macro avg       0.83      0.83      0.83       202\n",
      "weighted avg       0.85      0.85      0.85       202\n",
      " \n",
      "\n",
      "=========Confusion Matrix============\n",
      "[[120  15]\n",
      " [ 16  51]]\n"
     ]
    }
   ],
   "source": [
    "#Using the AdaBoostClassifier algorithm to check the accuray score,DecisionTreeClassifier and Confusion Matrix:\n",
    "\n",
    "abc=AdaBoostClassifier()\n",
    "abc.fit(x_train,y_train)\n",
    "y_predabc=abc.predict(x_test)\n",
    "\n",
    "print('\\n==========Outputs of ADA Boost===========')\n",
    "\n",
    "print('\\n==========Accuracy Score===========')\n",
    "print(f\"Accuracy Score is : {accuracy_score(y_test,y_predabc)* 100:.2f}%\\n\")\n",
    "\n",
    "print('======Classification Report=============')\n",
    "print(classification_report(y_test,y_predabc,digits=2),'\\n')\n",
    "\n",
    "print('=========Confusion Matrix============')\n",
    "print(confusion_matrix(y_test,y_predabc))"
   ]
  },
  {
   "cell_type": "code",
   "execution_count": 630,
   "metadata": {},
   "outputs": [
    {
     "name": "stdout",
     "output_type": "stream",
     "text": [
      "\n",
      "==========Outputs of SVC===========\n",
      "\n",
      "==========Accuracy Score===========\n",
      "Accuracy Score is : 84.65%\n",
      "\n",
      "======Classification Report=============\n",
      "              precision    recall  f1-score   support\n",
      "\n",
      "           0       0.87      0.91      0.89       135\n",
      "           1       0.80      0.72      0.76        67\n",
      "\n",
      "    accuracy                           0.85       202\n",
      "   macro avg       0.83      0.81      0.82       202\n",
      "weighted avg       0.84      0.85      0.84       202\n",
      " \n",
      "\n",
      "=========Confusion Matrix============\n",
      "[[123  12]\n",
      " [ 19  48]]\n"
     ]
    }
   ],
   "source": [
    "#Using the SVC algorithm to check the accuray score,DecisionTreeClassifier and Confusion Matrix:\n",
    "\n",
    "svc=SVC()\n",
    "svc.fit(x_train,y_train)\n",
    "y_predsvc=svc.predict(x_test)\n",
    "\n",
    "print('\\n==========Outputs of SVC===========')\n",
    "\n",
    "print('\\n==========Accuracy Score===========')\n",
    "print(f\"Accuracy Score is : {accuracy_score(y_test,y_predsvc)* 100:.2f}%\\n\")\n",
    "\n",
    "print('======Classification Report=============')\n",
    "print(classification_report(y_test,y_predsvc,digits=2),'\\n')\n",
    "\n",
    "print('=========Confusion Matrix============')\n",
    "print(confusion_matrix(y_test,y_predsvc))"
   ]
  },
  {
   "cell_type": "code",
   "execution_count": 631,
   "metadata": {},
   "outputs": [
    {
     "name": "stdout",
     "output_type": "stream",
     "text": [
      "\n",
      "==========Outputs of Random Forest Classifier===========\n",
      "\n",
      "==========Accuracy Score===========\n",
      "Accuracy Score is : 86.14%\n",
      "\n",
      "======Classification Report=============\n",
      "              precision    recall  f1-score   support\n",
      "\n",
      "           0       0.87      0.93      0.90       135\n",
      "           1       0.84      0.72      0.77        67\n",
      "\n",
      "    accuracy                           0.86       202\n",
      "   macro avg       0.86      0.82      0.84       202\n",
      "weighted avg       0.86      0.86      0.86       202\n",
      " \n",
      "\n",
      "=========Confusion Matrix============\n",
      "[[126   9]\n",
      " [ 19  48]]\n"
     ]
    }
   ],
   "source": [
    "#Using the RandomForestClassifier algorithm to check the accuray score,DecisionTreeClassifier and Confusion Matrix:\n",
    "\n",
    "rfc=RandomForestClassifier()\n",
    "rfc.fit(x_train,y_train)\n",
    "y_predrfc=rfc.predict(x_test)\n",
    "\n",
    "print('\\n==========Outputs of Random Forest Classifier===========')\n",
    "\n",
    "print('\\n==========Accuracy Score===========')\n",
    "print(f\"Accuracy Score is : {accuracy_score(y_test,y_predrfc)* 100:.2f}%\\n\")\n",
    "\n",
    "print('======Classification Report=============')\n",
    "print(classification_report(y_test,y_predrfc,digits=2),'\\n')\n",
    "\n",
    "print('=========Confusion Matrix============')\n",
    "print(confusion_matrix(y_test,y_predrfc))"
   ]
  },
  {
   "cell_type": "code",
   "execution_count": 632,
   "metadata": {},
   "outputs": [
    {
     "name": "stdout",
     "output_type": "stream",
     "text": [
      "\n",
      "==========Outputs of KNeighborsClassifier===========\n",
      "\n",
      "==========Accuracy Score===========\n",
      "Accuracy Score is : 83.66%\n",
      "\n",
      "======Classification Report=============\n",
      "              precision    recall  f1-score   support\n",
      "\n",
      "           0       0.87      0.89      0.88       135\n",
      "           1       0.77      0.73      0.75        67\n",
      "\n",
      "    accuracy                           0.84       202\n",
      "   macro avg       0.82      0.81      0.81       202\n",
      "weighted avg       0.84      0.84      0.84       202\n",
      " \n",
      "\n",
      "=========Confusion Matrix============\n",
      "[[120  15]\n",
      " [ 18  49]]\n"
     ]
    }
   ],
   "source": [
    "#Using the KNeighborsClassifier algorithm to check the accuray score,DecisionTreeClassifier and Confusion Matrix:\n",
    "\n",
    "knn=KNeighborsClassifier()\n",
    "knn.fit(x_train,y_train)\n",
    "y_predknn=knn.predict(x_test)\n",
    "\n",
    "print('\\n==========Outputs of KNeighborsClassifier===========')\n",
    "\n",
    "print('\\n==========Accuracy Score===========')\n",
    "print(f\"Accuracy Score is : {accuracy_score(y_test,y_predknn)* 100:.2f}%\\n\")\n",
    "\n",
    "print('======Classification Report=============')\n",
    "print(classification_report(y_test,y_predknn,digits=2),'\\n')\n",
    "\n",
    "print('=========Confusion Matrix============')\n",
    "print(confusion_matrix(y_test,y_predknn))"
   ]
  },
  {
   "cell_type": "code",
   "execution_count": 633,
   "metadata": {},
   "outputs": [],
   "source": [
    "#Now checking the Overfitting of the all the models using cross_val_score."
   ]
  },
  {
   "cell_type": "code",
   "execution_count": 549,
   "metadata": {},
   "outputs": [],
   "source": [
    "from sklearn.model_selection import cross_val_score"
   ]
  },
  {
   "cell_type": "code",
   "execution_count": 634,
   "metadata": {},
   "outputs": [
    {
     "name": "stdout",
     "output_type": "stream",
     "text": [
      "\n",
      "==========Cross Validation Score of Random Forest Classifier===========\n",
      "Cross validation for the Random Forest Classifier is: 79.81%\n",
      "\n",
      "\n",
      "=============Cross Validation Score of Decision Tree====================\n",
      "Cross validation for the Decision Tree is: 74.23%\n",
      "\n",
      "\n",
      "=============Cross Validation Score of AdaBoost Classifier==============\n",
      "Cross validation for the AdaBoost Classifier is: 72.87%\n",
      "\n",
      "\n",
      "===================Cross Validation Score of SVC========================\n",
      "Cross validation for the SVC Classifier is: 81.04%\n",
      "\n",
      "\n",
      "===================Cross Validation Score of KNN========================\n",
      "Cross validation for the KNN Classifier is: 80.30%\n",
      "\n"
     ]
    }
   ],
   "source": [
    "print('\\n==========Cross Validation Score of Random Forest Classifier===========')\n",
    "cvs_rfc=cross_val_score(rfc,x_data,y,cv=5)\n",
    "print(f\"Cross validation for the Random Forest Classifier is: {cvs_rfc.mean()*100:.2f}%\\n\")\n",
    "\n",
    "print('\\n=============Cross Validation Score of Decision Tree====================')\n",
    "cvs_dt=cross_val_score(dt,x_data,y,cv=5)\n",
    "print(f\"Cross validation for the Decision Tree is: {cvs_dt.mean()*100:.2f}%\\n\")\n",
    "\n",
    "print('\\n=============Cross Validation Score of AdaBoost Classifier==============')\n",
    "cvs_abc=cross_val_score(abc,x_data,y,cv=5)\n",
    "print(f\"Cross validation for the AdaBoost Classifier is: {cvs_abc.mean()*100:.2f}%\\n\")\n",
    "\n",
    "print('\\n===================Cross Validation Score of SVC========================')\n",
    "cvs_svc=cross_val_score(svc,x_data,y,cv=5)\n",
    "print(f\"Cross validation for the SVC Classifier is: {cvs_svc.mean()*100:.2f}%\\n\")\n",
    "\n",
    "print('\\n===================Cross Validation Score of KNN========================')\n",
    "cvs_svc=cross_val_score(knn,x_data,y,cv=5)\n",
    "print(f\"Cross validation for the KNN Classifier is: {cvs_svc.mean()*100:.2f}%\\n\")"
   ]
  },
  {
   "cell_type": "code",
   "execution_count": 637,
   "metadata": {},
   "outputs": [
    {
     "data": {
      "image/png": "[encoded data removed]",
      "text/plain": [
       "<Figure size 432x288 with 1 Axes>"
      ]
     },
     "metadata": {
      "needs_background": "light"
     },
     "output_type": "display_data"
    }
   ],
   "source": [
    "#Plotting and combining all the AUC:\n",
    "\n",
    "dist=plot_roc_curve(knn,x_test,y_test)\n",
    "plot_roc_curve(rfc,x_test,y_test,ax=dist.ax_)\n",
    "plot_roc_curve(svc,x_test,y_test,ax=dist.ax_)\n",
    "plot_roc_curve(dt,x_test,y_test,ax=dist.ax_)\n",
    "plot_roc_curve(abc,x_test,y_test,ax=dist.ax_)\n",
    "\n",
    "plt.legend(prop={'size':11},loc='lower right')\n",
    "plt.show()"
   ]
  },
  {
   "cell_type": "code",
   "execution_count": null,
   "metadata": {},
   "outputs": [],
   "source": [
    "#here we can see that the RandomForest Classifier provide the highst AUC i.e 91%\n",
    "#we select the RandomForest Classifier for the Hyper parameter tuning "
   ]
  },
  {
   "cell_type": "code",
   "execution_count": 638,
   "metadata": {},
   "outputs": [],
   "source": [
    "#Now Appling the gridsearchcv beofore building the model to check the best parameter.\n",
    "best_param={'n_estimators':[80,90,100],\n",
    "           'criterion':['gini','entropy'],\n",
    "           'max_depth':[10,12,15],\n",
    "           'min_samples_split':[2,3,5],\n",
    "           'min_samples_leaf':[2,4,6]}"
   ]
  },
  {
   "cell_type": "code",
   "execution_count": 639,
   "metadata": {},
   "outputs": [],
   "source": [
    "gridcv=GridSearchCV(rfc,param_grid=best_param)"
   ]
  },
  {
   "cell_type": "code",
   "execution_count": 640,
   "metadata": {},
   "outputs": [
    {
     "data": {
      "text/plain": [
       "GridSearchCV(estimator=RandomForestClassifier(),\n",
       "             param_grid={'criterion': ['gini', 'entropy'],\n",
       "                         'max_depth': [10, 12, 15],\n",
       "                         'min_samples_leaf': [2, 4, 6],\n",
       "                         'min_samples_split': [2, 3, 5],\n",
       "                         'n_estimators': [80, 90, 100]})"
      ]
     },
     "execution_count": 640,
     "metadata": {},
     "output_type": "execute_result"
    }
   ],
   "source": [
    "gridcv.fit(x_train,y_train)"
   ]
  },
  {
   "cell_type": "code",
   "execution_count": 641,
   "metadata": {},
   "outputs": [
    {
     "data": {
      "text/plain": [
       "{'criterion': 'entropy',\n",
       " 'max_depth': 10,\n",
       " 'min_samples_leaf': 6,\n",
       " 'min_samples_split': 3,\n",
       " 'n_estimators': 80}"
      ]
     },
     "execution_count": 641,
     "metadata": {},
     "output_type": "execute_result"
    }
   ],
   "source": [
    "gridcv.best_params_"
   ]
  },
  {
   "cell_type": "code",
   "execution_count": 643,
   "metadata": {},
   "outputs": [
    {
     "name": "stdout",
     "output_type": "stream",
     "text": [
      "\n",
      "==========Outputs of Random Forest Classifier===========\n",
      "\n",
      "==========Accuracy Score===========\n",
      "Accuracy Score is : 86.14%\n",
      "\n",
      "======Classification Report=============\n",
      "              precision    recall  f1-score   support\n",
      "\n",
      "           0       0.86      0.94      0.90       135\n",
      "           1       0.85      0.70      0.77        67\n",
      "\n",
      "    accuracy                           0.86       202\n",
      "   macro avg       0.86      0.82      0.84       202\n",
      "weighted avg       0.86      0.86      0.86       202\n",
      " \n",
      "\n",
      "=========Confusion Matrix============\n",
      "[[127   8]\n",
      " [ 20  47]]\n"
     ]
    }
   ],
   "source": [
    "#Using the RandomForestClassifier algorithm to check the accuray score,DecisionTreeClassifier and Confusion Matrix:\n",
    "rfc=RandomForestClassifier(criterion= 'gini',max_depth= 10,min_samples_leaf=6,min_samples_split=3,n_estimators= 80)\n",
    "rfc.fit(x_train,y_train)\n",
    "y_predrfc=rfc.predict(x_test)\n",
    "\n",
    "print('\\n==========Outputs of Random Forest Classifier===========')\n",
    "\n",
    "print('\\n==========Accuracy Score===========')\n",
    "print(f\"Accuracy Score is : {accuracy_score(y_test,y_predrfc)* 100:.2f}%\\n\")\n",
    "\n",
    "print('======Classification Report=============')\n",
    "print(classification_report(y_test,y_predrfc,digits=2),'\\n')\n",
    "\n",
    "print('=========Confusion Matrix============')\n",
    "print(confusion_matrix(y_test,y_predrfc))"
   ]
  },
  {
   "cell_type": "code",
   "execution_count": 644,
   "metadata": {},
   "outputs": [
    {
     "name": "stdout",
     "output_type": "stream",
     "text": [
      "\n",
      "==========Cross Validation Score of Random Forest Classifier===========\n",
      "Cross validation for the Random Forest Classifier is: 81.53%\n",
      "\n"
     ]
    }
   ],
   "source": [
    "print('\\n==========Cross Validation Score of Random Forest Classifier===========')\n",
    "cvs_rfc=cross_val_score(rfc,x_data,y,cv=5)\n",
    "print(f\"Cross validation for the Random Forest Classifier is: {cvs_rfc.mean()*100:.2f}%\\n\")"
   ]
  },
  {
   "cell_type": "code",
   "execution_count": null,
   "metadata": {},
   "outputs": [],
   "source": [
    "#after the Hyper parameter tuning also accuracy remains same.so we are saving this model.\n",
    "#here Random Forest Classifier is our best model to provide the highest accuracy."
   ]
  },
  {
   "cell_type": "code",
   "execution_count": 646,
   "metadata": {},
   "outputs": [
    {
     "data": {
      "text/plain": [
       "['Titanic_model.pkl']"
      ]
     },
     "execution_count": 646,
     "metadata": {},
     "output_type": "execute_result"
    }
   ],
   "source": [
    "import joblib\n",
    "joblib.dump(rfc,'Titanic_model.pkl')"
   ]
  },
  {
   "cell_type": "code",
   "execution_count": null,
   "metadata": {},
   "outputs": [],
   "source": [
    "#this complete our model building."
   ]
  }
 ],
 "metadata": {
  "kernelspec": {
   "display_name": "Python 3",
   "language": "python",
   "name": "python3"
  },
  "language_info": {
   "codemirror_mode": {
    "name": "ipython",
    "version": 3
   },
   "file_extension": ".py",
   "mimetype": "text/x-python",
   "name": "python",
   "nbconvert_exporter": "python",
   "pygments_lexer": "ipython3",
   "version": "3.8.5"
  }
 },
 "nbformat": 4,
 "nbformat_minor": 4
}
